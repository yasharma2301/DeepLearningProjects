{
  "nbformat": 4,
  "nbformat_minor": 0,
  "metadata": {
    "colab": {
      "name": "DigitRecognizer.ipynb",
      "provenance": [],
      "collapsed_sections": []
    },
    "kernelspec": {
      "name": "python3",
      "display_name": "Python 3"
    },
    "accelerator": "GPU"
  },
  "cells": [
    {
      "cell_type": "code",
      "metadata": {
        "id": "JBJJ1H12keih"
      },
      "source": [
        "import warnings\r\n",
        "warnings.filterwarnings('ignore')\r\n",
        "import seaborn as sns\r\n",
        "import numpy as np\r\n",
        "import pandas as pd\r\n",
        "import matplotlib.pyplot as plt"
      ],
      "execution_count": null,
      "outputs": []
    },
    {
      "cell_type": "code",
      "metadata": {
        "colab": {
          "base_uri": "https://localhost:8080/"
        },
        "id": "IjMHhiz0lrOv",
        "outputId": "60f05d10-d4b4-4b82-a971-e2a0a0a983be"
      },
      "source": [
        "from google.colab import drive\r\n",
        "drive.mount('/content/gdrive')"
      ],
      "execution_count": null,
      "outputs": [
        {
          "output_type": "stream",
          "text": [
            "Mounted at /content/gdrive\n"
          ],
          "name": "stdout"
        }
      ]
    },
    {
      "cell_type": "code",
      "metadata": {
        "id": "TbJe8CuIkhPa"
      },
      "source": [
        "train_data = pd.read_csv(\"gdrive/My Drive/ML_Data/DigitsData/train.csv\")\r\n",
        "test_data = pd.read_csv(\"gdrive/My Drive/ML_Data/DigitsData/test.csv\")"
      ],
      "execution_count": null,
      "outputs": []
    },
    {
      "cell_type": "code",
      "metadata": {
        "colab": {
          "base_uri": "https://localhost:8080/",
          "height": 255
        },
        "id": "KIwFSTrWm0Ls",
        "outputId": "c835b298-e92b-4feb-e754-0a263ed93fc3"
      },
      "source": [
        "train_data.head()"
      ],
      "execution_count": null,
      "outputs": [
        {
          "output_type": "execute_result",
          "data": {
            "text/html": [
              "<div>\n",
              "<style scoped>\n",
              "    .dataframe tbody tr th:only-of-type {\n",
              "        vertical-align: middle;\n",
              "    }\n",
              "\n",
              "    .dataframe tbody tr th {\n",
              "        vertical-align: top;\n",
              "    }\n",
              "\n",
              "    .dataframe thead th {\n",
              "        text-align: right;\n",
              "    }\n",
              "</style>\n",
              "<table border=\"1\" class=\"dataframe\">\n",
              "  <thead>\n",
              "    <tr style=\"text-align: right;\">\n",
              "      <th></th>\n",
              "      <th>label</th>\n",
              "      <th>pixel0</th>\n",
              "      <th>pixel1</th>\n",
              "      <th>pixel2</th>\n",
              "      <th>pixel3</th>\n",
              "      <th>pixel4</th>\n",
              "      <th>pixel5</th>\n",
              "      <th>pixel6</th>\n",
              "      <th>pixel7</th>\n",
              "      <th>pixel8</th>\n",
              "      <th>pixel9</th>\n",
              "      <th>pixel10</th>\n",
              "      <th>pixel11</th>\n",
              "      <th>pixel12</th>\n",
              "      <th>pixel13</th>\n",
              "      <th>pixel14</th>\n",
              "      <th>pixel15</th>\n",
              "      <th>pixel16</th>\n",
              "      <th>pixel17</th>\n",
              "      <th>pixel18</th>\n",
              "      <th>pixel19</th>\n",
              "      <th>pixel20</th>\n",
              "      <th>pixel21</th>\n",
              "      <th>pixel22</th>\n",
              "      <th>pixel23</th>\n",
              "      <th>pixel24</th>\n",
              "      <th>pixel25</th>\n",
              "      <th>pixel26</th>\n",
              "      <th>pixel27</th>\n",
              "      <th>pixel28</th>\n",
              "      <th>pixel29</th>\n",
              "      <th>pixel30</th>\n",
              "      <th>pixel31</th>\n",
              "      <th>pixel32</th>\n",
              "      <th>pixel33</th>\n",
              "      <th>pixel34</th>\n",
              "      <th>pixel35</th>\n",
              "      <th>pixel36</th>\n",
              "      <th>pixel37</th>\n",
              "      <th>pixel38</th>\n",
              "      <th>...</th>\n",
              "      <th>pixel744</th>\n",
              "      <th>pixel745</th>\n",
              "      <th>pixel746</th>\n",
              "      <th>pixel747</th>\n",
              "      <th>pixel748</th>\n",
              "      <th>pixel749</th>\n",
              "      <th>pixel750</th>\n",
              "      <th>pixel751</th>\n",
              "      <th>pixel752</th>\n",
              "      <th>pixel753</th>\n",
              "      <th>pixel754</th>\n",
              "      <th>pixel755</th>\n",
              "      <th>pixel756</th>\n",
              "      <th>pixel757</th>\n",
              "      <th>pixel758</th>\n",
              "      <th>pixel759</th>\n",
              "      <th>pixel760</th>\n",
              "      <th>pixel761</th>\n",
              "      <th>pixel762</th>\n",
              "      <th>pixel763</th>\n",
              "      <th>pixel764</th>\n",
              "      <th>pixel765</th>\n",
              "      <th>pixel766</th>\n",
              "      <th>pixel767</th>\n",
              "      <th>pixel768</th>\n",
              "      <th>pixel769</th>\n",
              "      <th>pixel770</th>\n",
              "      <th>pixel771</th>\n",
              "      <th>pixel772</th>\n",
              "      <th>pixel773</th>\n",
              "      <th>pixel774</th>\n",
              "      <th>pixel775</th>\n",
              "      <th>pixel776</th>\n",
              "      <th>pixel777</th>\n",
              "      <th>pixel778</th>\n",
              "      <th>pixel779</th>\n",
              "      <th>pixel780</th>\n",
              "      <th>pixel781</th>\n",
              "      <th>pixel782</th>\n",
              "      <th>pixel783</th>\n",
              "    </tr>\n",
              "  </thead>\n",
              "  <tbody>\n",
              "    <tr>\n",
              "      <th>0</th>\n",
              "      <td>1</td>\n",
              "      <td>0</td>\n",
              "      <td>0</td>\n",
              "      <td>0</td>\n",
              "      <td>0</td>\n",
              "      <td>0</td>\n",
              "      <td>0</td>\n",
              "      <td>0</td>\n",
              "      <td>0</td>\n",
              "      <td>0</td>\n",
              "      <td>0</td>\n",
              "      <td>0</td>\n",
              "      <td>0</td>\n",
              "      <td>0</td>\n",
              "      <td>0</td>\n",
              "      <td>0</td>\n",
              "      <td>0</td>\n",
              "      <td>0</td>\n",
              "      <td>0</td>\n",
              "      <td>0</td>\n",
              "      <td>0</td>\n",
              "      <td>0</td>\n",
              "      <td>0</td>\n",
              "      <td>0</td>\n",
              "      <td>0</td>\n",
              "      <td>0</td>\n",
              "      <td>0</td>\n",
              "      <td>0</td>\n",
              "      <td>0</td>\n",
              "      <td>0</td>\n",
              "      <td>0</td>\n",
              "      <td>0</td>\n",
              "      <td>0</td>\n",
              "      <td>0</td>\n",
              "      <td>0</td>\n",
              "      <td>0</td>\n",
              "      <td>0</td>\n",
              "      <td>0</td>\n",
              "      <td>0</td>\n",
              "      <td>0</td>\n",
              "      <td>...</td>\n",
              "      <td>0</td>\n",
              "      <td>0</td>\n",
              "      <td>0</td>\n",
              "      <td>0</td>\n",
              "      <td>0</td>\n",
              "      <td>0</td>\n",
              "      <td>0</td>\n",
              "      <td>0</td>\n",
              "      <td>0</td>\n",
              "      <td>0</td>\n",
              "      <td>0</td>\n",
              "      <td>0</td>\n",
              "      <td>0</td>\n",
              "      <td>0</td>\n",
              "      <td>0</td>\n",
              "      <td>0</td>\n",
              "      <td>0</td>\n",
              "      <td>0</td>\n",
              "      <td>0</td>\n",
              "      <td>0</td>\n",
              "      <td>0</td>\n",
              "      <td>0</td>\n",
              "      <td>0</td>\n",
              "      <td>0</td>\n",
              "      <td>0</td>\n",
              "      <td>0</td>\n",
              "      <td>0</td>\n",
              "      <td>0</td>\n",
              "      <td>0</td>\n",
              "      <td>0</td>\n",
              "      <td>0</td>\n",
              "      <td>0</td>\n",
              "      <td>0</td>\n",
              "      <td>0</td>\n",
              "      <td>0</td>\n",
              "      <td>0</td>\n",
              "      <td>0</td>\n",
              "      <td>0</td>\n",
              "      <td>0</td>\n",
              "      <td>0</td>\n",
              "    </tr>\n",
              "    <tr>\n",
              "      <th>1</th>\n",
              "      <td>0</td>\n",
              "      <td>0</td>\n",
              "      <td>0</td>\n",
              "      <td>0</td>\n",
              "      <td>0</td>\n",
              "      <td>0</td>\n",
              "      <td>0</td>\n",
              "      <td>0</td>\n",
              "      <td>0</td>\n",
              "      <td>0</td>\n",
              "      <td>0</td>\n",
              "      <td>0</td>\n",
              "      <td>0</td>\n",
              "      <td>0</td>\n",
              "      <td>0</td>\n",
              "      <td>0</td>\n",
              "      <td>0</td>\n",
              "      <td>0</td>\n",
              "      <td>0</td>\n",
              "      <td>0</td>\n",
              "      <td>0</td>\n",
              "      <td>0</td>\n",
              "      <td>0</td>\n",
              "      <td>0</td>\n",
              "      <td>0</td>\n",
              "      <td>0</td>\n",
              "      <td>0</td>\n",
              "      <td>0</td>\n",
              "      <td>0</td>\n",
              "      <td>0</td>\n",
              "      <td>0</td>\n",
              "      <td>0</td>\n",
              "      <td>0</td>\n",
              "      <td>0</td>\n",
              "      <td>0</td>\n",
              "      <td>0</td>\n",
              "      <td>0</td>\n",
              "      <td>0</td>\n",
              "      <td>0</td>\n",
              "      <td>0</td>\n",
              "      <td>...</td>\n",
              "      <td>0</td>\n",
              "      <td>0</td>\n",
              "      <td>0</td>\n",
              "      <td>0</td>\n",
              "      <td>0</td>\n",
              "      <td>0</td>\n",
              "      <td>0</td>\n",
              "      <td>0</td>\n",
              "      <td>0</td>\n",
              "      <td>0</td>\n",
              "      <td>0</td>\n",
              "      <td>0</td>\n",
              "      <td>0</td>\n",
              "      <td>0</td>\n",
              "      <td>0</td>\n",
              "      <td>0</td>\n",
              "      <td>0</td>\n",
              "      <td>0</td>\n",
              "      <td>0</td>\n",
              "      <td>0</td>\n",
              "      <td>0</td>\n",
              "      <td>0</td>\n",
              "      <td>0</td>\n",
              "      <td>0</td>\n",
              "      <td>0</td>\n",
              "      <td>0</td>\n",
              "      <td>0</td>\n",
              "      <td>0</td>\n",
              "      <td>0</td>\n",
              "      <td>0</td>\n",
              "      <td>0</td>\n",
              "      <td>0</td>\n",
              "      <td>0</td>\n",
              "      <td>0</td>\n",
              "      <td>0</td>\n",
              "      <td>0</td>\n",
              "      <td>0</td>\n",
              "      <td>0</td>\n",
              "      <td>0</td>\n",
              "      <td>0</td>\n",
              "    </tr>\n",
              "    <tr>\n",
              "      <th>2</th>\n",
              "      <td>1</td>\n",
              "      <td>0</td>\n",
              "      <td>0</td>\n",
              "      <td>0</td>\n",
              "      <td>0</td>\n",
              "      <td>0</td>\n",
              "      <td>0</td>\n",
              "      <td>0</td>\n",
              "      <td>0</td>\n",
              "      <td>0</td>\n",
              "      <td>0</td>\n",
              "      <td>0</td>\n",
              "      <td>0</td>\n",
              "      <td>0</td>\n",
              "      <td>0</td>\n",
              "      <td>0</td>\n",
              "      <td>0</td>\n",
              "      <td>0</td>\n",
              "      <td>0</td>\n",
              "      <td>0</td>\n",
              "      <td>0</td>\n",
              "      <td>0</td>\n",
              "      <td>0</td>\n",
              "      <td>0</td>\n",
              "      <td>0</td>\n",
              "      <td>0</td>\n",
              "      <td>0</td>\n",
              "      <td>0</td>\n",
              "      <td>0</td>\n",
              "      <td>0</td>\n",
              "      <td>0</td>\n",
              "      <td>0</td>\n",
              "      <td>0</td>\n",
              "      <td>0</td>\n",
              "      <td>0</td>\n",
              "      <td>0</td>\n",
              "      <td>0</td>\n",
              "      <td>0</td>\n",
              "      <td>0</td>\n",
              "      <td>0</td>\n",
              "      <td>...</td>\n",
              "      <td>0</td>\n",
              "      <td>0</td>\n",
              "      <td>0</td>\n",
              "      <td>0</td>\n",
              "      <td>0</td>\n",
              "      <td>0</td>\n",
              "      <td>0</td>\n",
              "      <td>0</td>\n",
              "      <td>0</td>\n",
              "      <td>0</td>\n",
              "      <td>0</td>\n",
              "      <td>0</td>\n",
              "      <td>0</td>\n",
              "      <td>0</td>\n",
              "      <td>0</td>\n",
              "      <td>0</td>\n",
              "      <td>0</td>\n",
              "      <td>0</td>\n",
              "      <td>0</td>\n",
              "      <td>0</td>\n",
              "      <td>0</td>\n",
              "      <td>0</td>\n",
              "      <td>0</td>\n",
              "      <td>0</td>\n",
              "      <td>0</td>\n",
              "      <td>0</td>\n",
              "      <td>0</td>\n",
              "      <td>0</td>\n",
              "      <td>0</td>\n",
              "      <td>0</td>\n",
              "      <td>0</td>\n",
              "      <td>0</td>\n",
              "      <td>0</td>\n",
              "      <td>0</td>\n",
              "      <td>0</td>\n",
              "      <td>0</td>\n",
              "      <td>0</td>\n",
              "      <td>0</td>\n",
              "      <td>0</td>\n",
              "      <td>0</td>\n",
              "    </tr>\n",
              "    <tr>\n",
              "      <th>3</th>\n",
              "      <td>4</td>\n",
              "      <td>0</td>\n",
              "      <td>0</td>\n",
              "      <td>0</td>\n",
              "      <td>0</td>\n",
              "      <td>0</td>\n",
              "      <td>0</td>\n",
              "      <td>0</td>\n",
              "      <td>0</td>\n",
              "      <td>0</td>\n",
              "      <td>0</td>\n",
              "      <td>0</td>\n",
              "      <td>0</td>\n",
              "      <td>0</td>\n",
              "      <td>0</td>\n",
              "      <td>0</td>\n",
              "      <td>0</td>\n",
              "      <td>0</td>\n",
              "      <td>0</td>\n",
              "      <td>0</td>\n",
              "      <td>0</td>\n",
              "      <td>0</td>\n",
              "      <td>0</td>\n",
              "      <td>0</td>\n",
              "      <td>0</td>\n",
              "      <td>0</td>\n",
              "      <td>0</td>\n",
              "      <td>0</td>\n",
              "      <td>0</td>\n",
              "      <td>0</td>\n",
              "      <td>0</td>\n",
              "      <td>0</td>\n",
              "      <td>0</td>\n",
              "      <td>0</td>\n",
              "      <td>0</td>\n",
              "      <td>0</td>\n",
              "      <td>0</td>\n",
              "      <td>0</td>\n",
              "      <td>0</td>\n",
              "      <td>0</td>\n",
              "      <td>...</td>\n",
              "      <td>0</td>\n",
              "      <td>0</td>\n",
              "      <td>0</td>\n",
              "      <td>0</td>\n",
              "      <td>0</td>\n",
              "      <td>0</td>\n",
              "      <td>0</td>\n",
              "      <td>0</td>\n",
              "      <td>0</td>\n",
              "      <td>0</td>\n",
              "      <td>0</td>\n",
              "      <td>0</td>\n",
              "      <td>0</td>\n",
              "      <td>0</td>\n",
              "      <td>0</td>\n",
              "      <td>0</td>\n",
              "      <td>0</td>\n",
              "      <td>0</td>\n",
              "      <td>0</td>\n",
              "      <td>0</td>\n",
              "      <td>0</td>\n",
              "      <td>0</td>\n",
              "      <td>0</td>\n",
              "      <td>0</td>\n",
              "      <td>0</td>\n",
              "      <td>0</td>\n",
              "      <td>0</td>\n",
              "      <td>0</td>\n",
              "      <td>0</td>\n",
              "      <td>0</td>\n",
              "      <td>0</td>\n",
              "      <td>0</td>\n",
              "      <td>0</td>\n",
              "      <td>0</td>\n",
              "      <td>0</td>\n",
              "      <td>0</td>\n",
              "      <td>0</td>\n",
              "      <td>0</td>\n",
              "      <td>0</td>\n",
              "      <td>0</td>\n",
              "    </tr>\n",
              "    <tr>\n",
              "      <th>4</th>\n",
              "      <td>0</td>\n",
              "      <td>0</td>\n",
              "      <td>0</td>\n",
              "      <td>0</td>\n",
              "      <td>0</td>\n",
              "      <td>0</td>\n",
              "      <td>0</td>\n",
              "      <td>0</td>\n",
              "      <td>0</td>\n",
              "      <td>0</td>\n",
              "      <td>0</td>\n",
              "      <td>0</td>\n",
              "      <td>0</td>\n",
              "      <td>0</td>\n",
              "      <td>0</td>\n",
              "      <td>0</td>\n",
              "      <td>0</td>\n",
              "      <td>0</td>\n",
              "      <td>0</td>\n",
              "      <td>0</td>\n",
              "      <td>0</td>\n",
              "      <td>0</td>\n",
              "      <td>0</td>\n",
              "      <td>0</td>\n",
              "      <td>0</td>\n",
              "      <td>0</td>\n",
              "      <td>0</td>\n",
              "      <td>0</td>\n",
              "      <td>0</td>\n",
              "      <td>0</td>\n",
              "      <td>0</td>\n",
              "      <td>0</td>\n",
              "      <td>0</td>\n",
              "      <td>0</td>\n",
              "      <td>0</td>\n",
              "      <td>0</td>\n",
              "      <td>0</td>\n",
              "      <td>0</td>\n",
              "      <td>0</td>\n",
              "      <td>0</td>\n",
              "      <td>...</td>\n",
              "      <td>0</td>\n",
              "      <td>0</td>\n",
              "      <td>0</td>\n",
              "      <td>0</td>\n",
              "      <td>0</td>\n",
              "      <td>0</td>\n",
              "      <td>0</td>\n",
              "      <td>0</td>\n",
              "      <td>0</td>\n",
              "      <td>0</td>\n",
              "      <td>0</td>\n",
              "      <td>0</td>\n",
              "      <td>0</td>\n",
              "      <td>0</td>\n",
              "      <td>0</td>\n",
              "      <td>0</td>\n",
              "      <td>0</td>\n",
              "      <td>0</td>\n",
              "      <td>0</td>\n",
              "      <td>0</td>\n",
              "      <td>0</td>\n",
              "      <td>0</td>\n",
              "      <td>0</td>\n",
              "      <td>0</td>\n",
              "      <td>0</td>\n",
              "      <td>0</td>\n",
              "      <td>0</td>\n",
              "      <td>0</td>\n",
              "      <td>0</td>\n",
              "      <td>0</td>\n",
              "      <td>0</td>\n",
              "      <td>0</td>\n",
              "      <td>0</td>\n",
              "      <td>0</td>\n",
              "      <td>0</td>\n",
              "      <td>0</td>\n",
              "      <td>0</td>\n",
              "      <td>0</td>\n",
              "      <td>0</td>\n",
              "      <td>0</td>\n",
              "    </tr>\n",
              "  </tbody>\n",
              "</table>\n",
              "<p>5 rows × 785 columns</p>\n",
              "</div>"
            ],
            "text/plain": [
              "   label  pixel0  pixel1  pixel2  ...  pixel780  pixel781  pixel782  pixel783\n",
              "0      1       0       0       0  ...         0         0         0         0\n",
              "1      0       0       0       0  ...         0         0         0         0\n",
              "2      1       0       0       0  ...         0         0         0         0\n",
              "3      4       0       0       0  ...         0         0         0         0\n",
              "4      0       0       0       0  ...         0         0         0         0\n",
              "\n",
              "[5 rows x 785 columns]"
            ]
          },
          "metadata": {
            "tags": []
          },
          "execution_count": 5
        }
      ]
    },
    {
      "cell_type": "code",
      "metadata": {
        "colab": {
          "base_uri": "https://localhost:8080/",
          "height": 585
        },
        "id": "KRvyYGLLm3Cr",
        "outputId": "37063120-ddc6-430b-ce54-4cf2cc7d38c5"
      },
      "source": [
        "def show_image(train_image,label,index):\r\n",
        "    image_shaped = train_image.values.reshape(28,28)\r\n",
        "    plt.subplot(3,6,index+1)\r\n",
        "    plt.imshow(image_shaped,cmap = plt.cm.gray)\r\n",
        "    plt.title(label)\r\n",
        "\r\n",
        "plt.figure(figsize = (18,8))\r\n",
        "sample_image = train_data.sample(18).reset_index(drop=True)\r\n",
        "for index,row in sample_image.iterrows():\r\n",
        "    label = row['label']\r\n",
        "    image_pixels = row.drop('label')\r\n",
        "    show_image(image_pixels,label,index)\r\n",
        "plt.tight_layout()"
      ],
      "execution_count": null,
      "outputs": [
        {
          "output_type": "display_data",
          "data": {
            "image/png": "[encoded data removed]",
            "text/plain": [
              "<Figure size 1296x576 with 18 Axes>"
            ]
          },
          "metadata": {
            "tags": [],
            "needs_background": "light"
          }
        }
      ]
    },
    {
      "cell_type": "code",
      "metadata": {
        "id": "0i9W0v7Hm-TB"
      },
      "source": [
        "from sklearn.model_selection import train_test_split\r\n",
        "from keras.utils import to_categorical"
      ],
      "execution_count": null,
      "outputs": []
    },
    {
      "cell_type": "code",
      "metadata": {
        "id": "f5w5c7cXm_vg"
      },
      "source": [
        "x = train_data.drop(columns=['label']).values.reshape(train_data.shape[0],28,28,1)"
      ],
      "execution_count": null,
      "outputs": []
    },
    {
      "cell_type": "code",
      "metadata": {
        "id": "7pjNnmoLnAhh"
      },
      "source": [
        "y = to_categorical(train_data['label'])\r\n",
        "x_train, x_test, y_train, y_test = train_test_split(x, y, test_size=0.2)"
      ],
      "execution_count": null,
      "outputs": []
    },
    {
      "cell_type": "code",
      "metadata": {
        "id": "q2ZMNCQunBQI"
      },
      "source": [
        "from keras.preprocessing.image import ImageDataGenerator"
      ],
      "execution_count": null,
      "outputs": []
    },
    {
      "cell_type": "code",
      "metadata": {
        "id": "ZpHi52tonB_T"
      },
      "source": [
        "train_datagen = ImageDataGenerator(\r\n",
        "    rotation_range=10,\r\n",
        "    rescale=1./255,\r\n",
        "    shear_range=0.1,\r\n",
        "    zoom_range=0.1,\r\n",
        "    width_shift_range=0.1,\r\n",
        "    height_shift_range=0.1\r\n",
        ")\r\n",
        "train_datagen.fit(x_train)"
      ],
      "execution_count": null,
      "outputs": []
    },
    {
      "cell_type": "code",
      "metadata": {
        "id": "viYwkZ6_nCz5"
      },
      "source": [
        "train_generator = train_datagen.flow(x_train,\r\n",
        "    y_train,\r\n",
        "    batch_size=32)"
      ],
      "execution_count": null,
      "outputs": []
    },
    {
      "cell_type": "code",
      "metadata": {
        "id": "X22giQT3nDvX"
      },
      "source": [
        "train_datagen.fit(x_test)"
      ],
      "execution_count": null,
      "outputs": []
    },
    {
      "cell_type": "code",
      "metadata": {
        "id": "2KELltrTnE4C"
      },
      "source": [
        "validation_datagen = ImageDataGenerator(rescale=1./255)"
      ],
      "execution_count": null,
      "outputs": []
    },
    {
      "cell_type": "code",
      "metadata": {
        "id": "n9EbULd8nF1g"
      },
      "source": [
        "validation_generator = validation_datagen.flow(\r\n",
        "    x_test,\r\n",
        "    y_test\r\n",
        ")"
      ],
      "execution_count": null,
      "outputs": []
    },
    {
      "cell_type": "code",
      "metadata": {
        "id": "9yFSMG_fnGjQ"
      },
      "source": [
        "from keras.models import Sequential\r\n",
        "from keras.layers import Dense, Conv2D, Flatten, MaxPooling2D\r\n",
        "\r\n",
        "model = Sequential()\r\n",
        "model.add(Conv2D(64, kernel_size=3, activation='relu', input_shape=(28,28,1)))\r\n",
        "model.add(Conv2D(32, kernel_size=3, activation='relu'))\r\n",
        "model.add(MaxPooling2D(pool_size=(2, 2)))\r\n",
        "model.add(Flatten())\r\n",
        "model.add(Dense(10, activation='softmax'))"
      ],
      "execution_count": null,
      "outputs": []
    },
    {
      "cell_type": "code",
      "metadata": {
        "id": "aJMJwxXynHWr"
      },
      "source": [
        "model.compile(optimizer='rmsprop', loss='categorical_crossentropy', metrics=['accuracy'])"
      ],
      "execution_count": null,
      "outputs": []
    },
    {
      "cell_type": "code",
      "metadata": {
        "id": "9Yv-FrlbnId7"
      },
      "source": [
        "\r\n",
        "# Callbacks\r\n",
        "# Early Stopping: When the model's accuracy no more increases or loss is not decreasing anymore\r\n",
        "# the model training stops\r\n",
        "\r\n",
        "# ReduceROnPlateau\r\n",
        "# Reduce Learning rate when the metric has stopped improving\r\n",
        "\r\n",
        "from keras.callbacks import EarlyStopping, ModelCheckpoint, ReduceLROnPlateau\r\n",
        "\r\n",
        "callbacks = [\r\n",
        "    EarlyStopping(patience=10, verbose=1),\r\n",
        "    ReduceLROnPlateau(factor=0.1, patience=3, min_lr=0.00001, verbose=1),\r\n",
        "]"
      ],
      "execution_count": null,
      "outputs": []
    },
    {
      "cell_type": "code",
      "metadata": {
        "colab": {
          "base_uri": "https://localhost:8080/"
        },
        "id": "n9fWM0TQnKxZ",
        "outputId": "0da80902-6643-4234-8204-02f21dfaf9be"
      },
      "source": [
        "FAST_RUN=False\r\n",
        "batch_size=32\r\n",
        "epochs=100\r\n",
        "if FAST_RUN:\r\n",
        "    epochs=1\r\n",
        "    \r\n",
        "model.fit_generator(\r\n",
        "    train_generator, \r\n",
        "    steps_per_epoch=len(x_train) // batch_size, \r\n",
        "    validation_data=validation_generator,\r\n",
        "    validation_steps=len(x_test) // batch_size,\r\n",
        "    epochs=epochs,\r\n",
        "    callbacks=callbacks\r\n",
        ")"
      ],
      "execution_count": null,
      "outputs": [
        {
          "output_type": "stream",
          "text": [
            "Epoch 1/100\n",
            "1050/1050 [==============================] - 19s 12ms/step - loss: 0.7052 - accuracy: 0.7772 - val_loss: 0.1075 - val_accuracy: 0.9629\n",
            "Epoch 2/100\n",
            "1050/1050 [==============================] - 12s 11ms/step - loss: 0.1830 - accuracy: 0.9464 - val_loss: 0.0664 - val_accuracy: 0.9810\n",
            "Epoch 3/100\n",
            "1050/1050 [==============================] - 12s 11ms/step - loss: 0.1443 - accuracy: 0.9592 - val_loss: 0.0656 - val_accuracy: 0.9814\n",
            "Epoch 4/100\n",
            "1050/1050 [==============================] - 12s 11ms/step - loss: 0.1238 - accuracy: 0.9643 - val_loss: 0.0505 - val_accuracy: 0.9853\n",
            "Epoch 5/100\n",
            "1050/1050 [==============================] - 12s 11ms/step - loss: 0.1097 - accuracy: 0.9676 - val_loss: 0.0475 - val_accuracy: 0.9858\n",
            "Epoch 6/100\n",
            "1050/1050 [==============================] - 12s 11ms/step - loss: 0.1034 - accuracy: 0.9692 - val_loss: 0.0472 - val_accuracy: 0.9866\n",
            "Epoch 7/100\n",
            "1050/1050 [==============================] - 12s 11ms/step - loss: 0.0946 - accuracy: 0.9720 - val_loss: 0.0449 - val_accuracy: 0.9871\n",
            "Epoch 8/100\n",
            "1050/1050 [==============================] - 12s 11ms/step - loss: 0.0959 - accuracy: 0.9728 - val_loss: 0.0440 - val_accuracy: 0.9875\n",
            "Epoch 9/100\n",
            "1050/1050 [==============================] - 12s 11ms/step - loss: 0.0912 - accuracy: 0.9727 - val_loss: 0.0436 - val_accuracy: 0.9872\n",
            "Epoch 10/100\n",
            "1050/1050 [==============================] - 11s 11ms/step - loss: 0.0932 - accuracy: 0.9724 - val_loss: 0.0453 - val_accuracy: 0.9850\n",
            "Epoch 11/100\n",
            "1050/1050 [==============================] - 12s 11ms/step - loss: 0.0914 - accuracy: 0.9732 - val_loss: 0.0410 - val_accuracy: 0.9887\n",
            "Epoch 12/100\n",
            "1050/1050 [==============================] - 12s 11ms/step - loss: 0.0824 - accuracy: 0.9752 - val_loss: 0.0405 - val_accuracy: 0.9877\n",
            "Epoch 13/100\n",
            "1050/1050 [==============================] - 12s 11ms/step - loss: 0.0859 - accuracy: 0.9756 - val_loss: 0.0383 - val_accuracy: 0.9883\n",
            "Epoch 14/100\n",
            "1050/1050 [==============================] - 12s 11ms/step - loss: 0.0836 - accuracy: 0.9757 - val_loss: 0.0438 - val_accuracy: 0.9872\n",
            "Epoch 15/100\n",
            "1050/1050 [==============================] - 12s 11ms/step - loss: 0.0871 - accuracy: 0.9763 - val_loss: 0.0416 - val_accuracy: 0.9860\n",
            "Epoch 16/100\n",
            "1050/1050 [==============================] - 12s 11ms/step - loss: 0.0855 - accuracy: 0.9741 - val_loss: 0.0385 - val_accuracy: 0.9890\n",
            "\n",
            "Epoch 00016: ReduceLROnPlateau reducing learning rate to 0.00010000000474974513.\n",
            "Epoch 17/100\n",
            "1050/1050 [==============================] - 12s 12ms/step - loss: 0.0702 - accuracy: 0.9784 - val_loss: 0.0347 - val_accuracy: 0.9891\n",
            "Epoch 18/100\n",
            "1050/1050 [==============================] - 12s 11ms/step - loss: 0.0660 - accuracy: 0.9813 - val_loss: 0.0352 - val_accuracy: 0.9893\n",
            "Epoch 19/100\n",
            "1050/1050 [==============================] - 12s 11ms/step - loss: 0.0694 - accuracy: 0.9801 - val_loss: 0.0346 - val_accuracy: 0.9897\n",
            "Epoch 20/100\n",
            "1050/1050 [==============================] - 12s 11ms/step - loss: 0.0703 - accuracy: 0.9792 - val_loss: 0.0351 - val_accuracy: 0.9895\n",
            "\n",
            "Epoch 00020: ReduceLROnPlateau reducing learning rate to 1.0000000474974514e-05.\n",
            "Epoch 21/100\n",
            "1050/1050 [==============================] - 12s 11ms/step - loss: 0.0650 - accuracy: 0.9804 - val_loss: 0.0335 - val_accuracy: 0.9897\n",
            "Epoch 22/100\n",
            "1050/1050 [==============================] - 12s 11ms/step - loss: 0.0657 - accuracy: 0.9817 - val_loss: 0.0337 - val_accuracy: 0.9900\n",
            "Epoch 23/100\n",
            "1050/1050 [==============================] - 12s 11ms/step - loss: 0.0589 - accuracy: 0.9828 - val_loss: 0.0330 - val_accuracy: 0.9901\n",
            "Epoch 24/100\n",
            "1050/1050 [==============================] - 12s 11ms/step - loss: 0.0689 - accuracy: 0.9807 - val_loss: 0.0337 - val_accuracy: 0.9899\n",
            "Epoch 25/100\n",
            "1050/1050 [==============================] - 12s 11ms/step - loss: 0.0663 - accuracy: 0.9804 - val_loss: 0.0336 - val_accuracy: 0.9902\n",
            "Epoch 26/100\n",
            "1050/1050 [==============================] - 12s 11ms/step - loss: 0.0628 - accuracy: 0.9812 - val_loss: 0.0337 - val_accuracy: 0.9900\n",
            "\n",
            "Epoch 00026: ReduceLROnPlateau reducing learning rate to 1e-05.\n",
            "Epoch 27/100\n",
            "1050/1050 [==============================] - 12s 11ms/step - loss: 0.0682 - accuracy: 0.9793 - val_loss: 0.0337 - val_accuracy: 0.9897\n",
            "Epoch 28/100\n",
            "1050/1050 [==============================] - 12s 11ms/step - loss: 0.0646 - accuracy: 0.9810 - val_loss: 0.0339 - val_accuracy: 0.9899\n",
            "Epoch 29/100\n",
            "1050/1050 [==============================] - 12s 11ms/step - loss: 0.0583 - accuracy: 0.9827 - val_loss: 0.0329 - val_accuracy: 0.9901\n",
            "Epoch 30/100\n",
            "1050/1050 [==============================] - 12s 11ms/step - loss: 0.0660 - accuracy: 0.9802 - val_loss: 0.0336 - val_accuracy: 0.9902\n",
            "Epoch 31/100\n",
            "1050/1050 [==============================] - 12s 12ms/step - loss: 0.0666 - accuracy: 0.9804 - val_loss: 0.0340 - val_accuracy: 0.9901\n",
            "Epoch 32/100\n",
            "1050/1050 [==============================] - 12s 11ms/step - loss: 0.0589 - accuracy: 0.9835 - val_loss: 0.0338 - val_accuracy: 0.9900\n",
            "Epoch 33/100\n",
            "1050/1050 [==============================] - 12s 11ms/step - loss: 0.0654 - accuracy: 0.9806 - val_loss: 0.0334 - val_accuracy: 0.9902\n",
            "Epoch 34/100\n",
            "1050/1050 [==============================] - 12s 11ms/step - loss: 0.0672 - accuracy: 0.9817 - val_loss: 0.0342 - val_accuracy: 0.9897\n",
            "Epoch 35/100\n",
            "1050/1050 [==============================] - 12s 11ms/step - loss: 0.0636 - accuracy: 0.9815 - val_loss: 0.0336 - val_accuracy: 0.9900\n",
            "Epoch 36/100\n",
            "1050/1050 [==============================] - 12s 11ms/step - loss: 0.0611 - accuracy: 0.9819 - val_loss: 0.0334 - val_accuracy: 0.9900\n",
            "Epoch 37/100\n",
            "1050/1050 [==============================] - 12s 11ms/step - loss: 0.0664 - accuracy: 0.9807 - val_loss: 0.0333 - val_accuracy: 0.9900\n",
            "Epoch 38/100\n",
            "1050/1050 [==============================] - 12s 12ms/step - loss: 0.0625 - accuracy: 0.9817 - val_loss: 0.0337 - val_accuracy: 0.9899\n",
            "Epoch 39/100\n",
            "1050/1050 [==============================] - 12s 11ms/step - loss: 0.0610 - accuracy: 0.9818 - val_loss: 0.0337 - val_accuracy: 0.9897\n",
            "Epoch 00039: early stopping\n"
          ],
          "name": "stdout"
        },
        {
          "output_type": "execute_result",
          "data": {
            "text/plain": [
              "<tensorflow.python.keras.callbacks.History at 0x7fd47c3f7dd8>"
            ]
          },
          "metadata": {
            "tags": []
          },
          "execution_count": 19
        }
      ]
    },
    {
      "cell_type": "code",
      "metadata": {
        "colab": {
          "base_uri": "https://localhost:8080/"
        },
        "id": "D_UU5uibnLkP",
        "outputId": "7c561f87-7053-4b64-c0e1-4a5e8bfae5cd"
      },
      "source": [
        "x_test_rescaled = (x_test.astype(\"float32\") / 255)\r\n",
        "scores = model.evaluate(x_test_rescaled, y_test, verbose=0)\r\n",
        "print(\"%s: %.2f%%\" % (model.metrics_names[1], scores[1]*100))\r\n",
        "print(\"%s: %.2f%%\" % (model.metrics_names[0], scores[0]*100))"
      ],
      "execution_count": null,
      "outputs": [
        {
          "output_type": "stream",
          "text": [
            "accuracy: 98.98%\n",
            "loss: 3.36%\n"
          ],
          "name": "stdout"
        }
      ]
    },
    {
      "cell_type": "code",
      "metadata": {
        "id": "tZ18WwXkuR18"
      },
      "source": [
        "test_digit_data = test_data.values.reshape(test_data.shape[0],28,28,1).astype(\"float32\") / 255\r\n",
        "predictions = model.predict(test_digit_data)\r\n",
        "results = np.argmax(predictions, axis = 1) "
      ],
      "execution_count": null,
      "outputs": []
    },
    {
      "cell_type": "code",
      "metadata": {
        "colab": {
          "base_uri": "https://localhost:8080/",
          "height": 585
        },
        "id": "h34BUF-gudcv",
        "outputId": "ddf990e2-7eec-4c75-e593-2e0332a1b696"
      },
      "source": [
        "plt.figure(figsize=(18, 8))\r\n",
        "sample_test = test_data.head(18)\r\n",
        "for index, image_pixels in sample_test.iterrows():\r\n",
        "    label = results[index]\r\n",
        "    show_image(image_pixels, label, index)\r\n",
        "plt.tight_layout()"
      ],
      "execution_count": null,
      "outputs": [
        {
          "output_type": "display_data",
          "data": {
            "image/png": "[encoded data removed]",
            "text/plain": [
              "<Figure size 1296x576 with 18 Axes>"
            ]
          },
          "metadata": {
            "tags": [],
            "needs_background": "light"
          }
        }
      ]
    },
    {
      "cell_type": "code",
      "metadata": {
        "id": "5ji__58OufFT"
      },
      "source": [
        "submissions = pd.read_csv(\"gdrive/My Drive/ML_Data/DigitsData/sample_submission.csv\")\r\n",
        "submissions['Label'] = results\r\n",
        "submissions.to_csv('gdrive/My Drive/ML_Data/DigitsData/submission.csv', index = False)"
      ],
      "execution_count": null,
      "outputs": []
    },
    {
      "cell_type": "code",
      "metadata": {
        "colab": {
          "base_uri": "https://localhost:8080/",
          "height": 424
        },
        "id": "LuheYS5fu_BF",
        "outputId": "c8717f2a-8154-4778-de0b-cde8dff532fe"
      },
      "source": [
        "submissions"
      ],
      "execution_count": null,
      "outputs": [
        {
          "output_type": "execute_result",
          "data": {
            "text/html": [
              "<div>\n",
              "<style scoped>\n",
              "    .dataframe tbody tr th:only-of-type {\n",
              "        vertical-align: middle;\n",
              "    }\n",
              "\n",
              "    .dataframe tbody tr th {\n",
              "        vertical-align: top;\n",
              "    }\n",
              "\n",
              "    .dataframe thead th {\n",
              "        text-align: right;\n",
              "    }\n",
              "</style>\n",
              "<table border=\"1\" class=\"dataframe\">\n",
              "  <thead>\n",
              "    <tr style=\"text-align: right;\">\n",
              "      <th></th>\n",
              "      <th>ImageId</th>\n",
              "      <th>Label</th>\n",
              "    </tr>\n",
              "  </thead>\n",
              "  <tbody>\n",
              "    <tr>\n",
              "      <th>0</th>\n",
              "      <td>1</td>\n",
              "      <td>2</td>\n",
              "    </tr>\n",
              "    <tr>\n",
              "      <th>1</th>\n",
              "      <td>2</td>\n",
              "      <td>0</td>\n",
              "    </tr>\n",
              "    <tr>\n",
              "      <th>2</th>\n",
              "      <td>3</td>\n",
              "      <td>9</td>\n",
              "    </tr>\n",
              "    <tr>\n",
              "      <th>3</th>\n",
              "      <td>4</td>\n",
              "      <td>0</td>\n",
              "    </tr>\n",
              "    <tr>\n",
              "      <th>4</th>\n",
              "      <td>5</td>\n",
              "      <td>3</td>\n",
              "    </tr>\n",
              "    <tr>\n",
              "      <th>...</th>\n",
              "      <td>...</td>\n",
              "      <td>...</td>\n",
              "    </tr>\n",
              "    <tr>\n",
              "      <th>27995</th>\n",
              "      <td>27996</td>\n",
              "      <td>9</td>\n",
              "    </tr>\n",
              "    <tr>\n",
              "      <th>27996</th>\n",
              "      <td>27997</td>\n",
              "      <td>7</td>\n",
              "    </tr>\n",
              "    <tr>\n",
              "      <th>27997</th>\n",
              "      <td>27998</td>\n",
              "      <td>3</td>\n",
              "    </tr>\n",
              "    <tr>\n",
              "      <th>27998</th>\n",
              "      <td>27999</td>\n",
              "      <td>9</td>\n",
              "    </tr>\n",
              "    <tr>\n",
              "      <th>27999</th>\n",
              "      <td>28000</td>\n",
              "      <td>2</td>\n",
              "    </tr>\n",
              "  </tbody>\n",
              "</table>\n",
              "<p>28000 rows × 2 columns</p>\n",
              "</div>"
            ],
            "text/plain": [
              "       ImageId  Label\n",
              "0            1      2\n",
              "1            2      0\n",
              "2            3      9\n",
              "3            4      0\n",
              "4            5      3\n",
              "...        ...    ...\n",
              "27995    27996      9\n",
              "27996    27997      7\n",
              "27997    27998      3\n",
              "27998    27999      9\n",
              "27999    28000      2\n",
              "\n",
              "[28000 rows x 2 columns]"
            ]
          },
          "metadata": {
            "tags": []
          },
          "execution_count": 26
        }
      ]
    },
    {
      "cell_type": "code",
      "metadata": {
        "id": "3TwzNetFvKA0"
      },
      "source": [
        ""
      ],
      "execution_count": null,
      "outputs": []
    },
    {
      "cell_type": "code",
      "metadata": {
        "id": "nUovp_YGuied"
      },
      "source": [
        ""
      ],
      "execution_count": null,
      "outputs": []
    }
  ]
}