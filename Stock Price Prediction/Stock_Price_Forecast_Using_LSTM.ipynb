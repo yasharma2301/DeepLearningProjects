{
  "nbformat": 4,
  "nbformat_minor": 0,
  "metadata": {
    "colab": {
      "name": "Stock Price Forecast Using LSTM.ipynb",
      "provenance": [],
      "collapsed_sections": []
    },
    "kernelspec": {
      "name": "python3",
      "display_name": "Python 3"
    },
    "accelerator": "GPU"
  },
  "cells": [
    {
      "cell_type": "markdown",
      "metadata": {
        "id": "yzfFl__LhNNA"
      },
      "source": [
        "##**AIM:**\r\n",
        "\r\n",
        "The aim of this notebook is to train a stacked LSTM model and then forcast stock prices. Here, we are using AAPL dataset for training purpose. "
      ]
    },
    {
      "cell_type": "code",
      "metadata": {
        "id": "d73s8I15mjQl"
      },
      "source": [
        "# Imports\r\n",
        "import math as m\r\n",
        "import pandas as pd\r\n",
        "import numpy as np\r\n",
        "import pandas_datareader as pdr\r\n",
        "from tensorflow.keras.models import Sequential\r\n",
        "from tensorflow.keras.layers import Dense\r\n",
        "from tensorflow.keras.layers import LSTM\r\n",
        "import matplotlib.pyplot as plt"
      ],
      "execution_count": null,
      "outputs": []
    },
    {
      "cell_type": "code",
      "metadata": {
        "id": "eixYyZ67nWWV"
      },
      "source": [
        "# use pandas data reader to get data from api\r\n",
        "df = pdr.get_data_tiingo('AAPL',api_key=\"bbf81df7a4a2c30a59c65ade30399446efd3e635\")"
      ],
      "execution_count": null,
      "outputs": []
    },
    {
      "cell_type": "code",
      "metadata": {
        "id": "KqBQoUeMpiWc"
      },
      "source": [
        "# convert it to a csv because of API throttle limit\r\n",
        "df.to_csv('AAPL.csv')"
      ],
      "execution_count": null,
      "outputs": []
    },
    {
      "cell_type": "code",
      "metadata": {
        "id": "L8xxhkvbpkxh"
      },
      "source": [
        "# read csv\r\n",
        "df = pd.read_csv('AAPL.csv')"
      ],
      "execution_count": null,
      "outputs": []
    },
    {
      "cell_type": "code",
      "metadata": {
        "colab": {
          "base_uri": "https://localhost:8080/",
          "height": 424
        },
        "id": "5n3VWFd0prW1",
        "outputId": "7ed58fa9-deed-45c3-f419-1f21acafa3a7"
      },
      "source": [
        "# peek data\r\n",
        "df"
      ],
      "execution_count": null,
      "outputs": [
        {
          "output_type": "execute_result",
          "data": {
            "text/html": [
              "<div>\n",
              "<style scoped>\n",
              "    .dataframe tbody tr th:only-of-type {\n",
              "        vertical-align: middle;\n",
              "    }\n",
              "\n",
              "    .dataframe tbody tr th {\n",
              "        vertical-align: top;\n",
              "    }\n",
              "\n",
              "    .dataframe thead th {\n",
              "        text-align: right;\n",
              "    }\n",
              "</style>\n",
              "<table border=\"1\" class=\"dataframe\">\n",
              "  <thead>\n",
              "    <tr style=\"text-align: right;\">\n",
              "      <th></th>\n",
              "      <th>symbol</th>\n",
              "      <th>date</th>\n",
              "      <th>close</th>\n",
              "      <th>high</th>\n",
              "      <th>low</th>\n",
              "      <th>open</th>\n",
              "      <th>volume</th>\n",
              "      <th>adjClose</th>\n",
              "      <th>adjHigh</th>\n",
              "      <th>adjLow</th>\n",
              "      <th>adjOpen</th>\n",
              "      <th>adjVolume</th>\n",
              "      <th>divCash</th>\n",
              "      <th>splitFactor</th>\n",
              "    </tr>\n",
              "  </thead>\n",
              "  <tbody>\n",
              "    <tr>\n",
              "      <th>0</th>\n",
              "      <td>AAPL</td>\n",
              "      <td>2016-01-19 00:00:00+00:00</td>\n",
              "      <td>96.66</td>\n",
              "      <td>98.6500</td>\n",
              "      <td>95.50</td>\n",
              "      <td>98.41</td>\n",
              "      <td>53087747</td>\n",
              "      <td>22.385352</td>\n",
              "      <td>22.846214</td>\n",
              "      <td>22.116710</td>\n",
              "      <td>22.790632</td>\n",
              "      <td>212350988</td>\n",
              "      <td>0.0</td>\n",
              "      <td>1.0</td>\n",
              "    </tr>\n",
              "    <tr>\n",
              "      <th>1</th>\n",
              "      <td>AAPL</td>\n",
              "      <td>2016-01-20 00:00:00+00:00</td>\n",
              "      <td>96.79</td>\n",
              "      <td>98.1897</td>\n",
              "      <td>93.42</td>\n",
              "      <td>95.10</td>\n",
              "      <td>72334416</td>\n",
              "      <td>22.415459</td>\n",
              "      <td>22.739613</td>\n",
              "      <td>21.635005</td>\n",
              "      <td>22.024074</td>\n",
              "      <td>289337664</td>\n",
              "      <td>0.0</td>\n",
              "      <td>1.0</td>\n",
              "    </tr>\n",
              "    <tr>\n",
              "      <th>2</th>\n",
              "      <td>AAPL</td>\n",
              "      <td>2016-01-21 00:00:00+00:00</td>\n",
              "      <td>96.30</td>\n",
              "      <td>97.8800</td>\n",
              "      <td>94.94</td>\n",
              "      <td>97.06</td>\n",
              "      <td>52161463</td>\n",
              "      <td>22.301980</td>\n",
              "      <td>22.667890</td>\n",
              "      <td>21.987020</td>\n",
              "      <td>22.477988</td>\n",
              "      <td>208645852</td>\n",
              "      <td>0.0</td>\n",
              "      <td>1.0</td>\n",
              "    </tr>\n",
              "    <tr>\n",
              "      <th>3</th>\n",
              "      <td>AAPL</td>\n",
              "      <td>2016-01-22 00:00:00+00:00</td>\n",
              "      <td>101.42</td>\n",
              "      <td>101.4600</td>\n",
              "      <td>98.37</td>\n",
              "      <td>98.63</td>\n",
              "      <td>65800467</td>\n",
              "      <td>23.487714</td>\n",
              "      <td>23.496977</td>\n",
              "      <td>22.781369</td>\n",
              "      <td>22.841582</td>\n",
              "      <td>263201868</td>\n",
              "      <td>0.0</td>\n",
              "      <td>1.0</td>\n",
              "    </tr>\n",
              "    <tr>\n",
              "      <th>4</th>\n",
              "      <td>AAPL</td>\n",
              "      <td>2016-01-25 00:00:00+00:00</td>\n",
              "      <td>99.44</td>\n",
              "      <td>101.5300</td>\n",
              "      <td>99.21</td>\n",
              "      <td>101.52</td>\n",
              "      <td>51794525</td>\n",
              "      <td>23.029169</td>\n",
              "      <td>23.513189</td>\n",
              "      <td>22.975903</td>\n",
              "      <td>23.510873</td>\n",
              "      <td>207178100</td>\n",
              "      <td>0.0</td>\n",
              "      <td>1.0</td>\n",
              "    </tr>\n",
              "    <tr>\n",
              "      <th>...</th>\n",
              "      <td>...</td>\n",
              "      <td>...</td>\n",
              "      <td>...</td>\n",
              "      <td>...</td>\n",
              "      <td>...</td>\n",
              "      <td>...</td>\n",
              "      <td>...</td>\n",
              "      <td>...</td>\n",
              "      <td>...</td>\n",
              "      <td>...</td>\n",
              "      <td>...</td>\n",
              "      <td>...</td>\n",
              "      <td>...</td>\n",
              "      <td>...</td>\n",
              "    </tr>\n",
              "    <tr>\n",
              "      <th>1254</th>\n",
              "      <td>AAPL</td>\n",
              "      <td>2021-01-11 00:00:00+00:00</td>\n",
              "      <td>128.98</td>\n",
              "      <td>130.1700</td>\n",
              "      <td>128.50</td>\n",
              "      <td>129.19</td>\n",
              "      <td>100620880</td>\n",
              "      <td>128.980000</td>\n",
              "      <td>130.170000</td>\n",
              "      <td>128.500000</td>\n",
              "      <td>129.190000</td>\n",
              "      <td>100620880</td>\n",
              "      <td>0.0</td>\n",
              "      <td>1.0</td>\n",
              "    </tr>\n",
              "    <tr>\n",
              "      <th>1255</th>\n",
              "      <td>AAPL</td>\n",
              "      <td>2021-01-12 00:00:00+00:00</td>\n",
              "      <td>128.80</td>\n",
              "      <td>129.6900</td>\n",
              "      <td>126.86</td>\n",
              "      <td>128.50</td>\n",
              "      <td>90440255</td>\n",
              "      <td>128.800000</td>\n",
              "      <td>129.690000</td>\n",
              "      <td>126.860000</td>\n",
              "      <td>128.500000</td>\n",
              "      <td>90440255</td>\n",
              "      <td>0.0</td>\n",
              "      <td>1.0</td>\n",
              "    </tr>\n",
              "    <tr>\n",
              "      <th>1256</th>\n",
              "      <td>AAPL</td>\n",
              "      <td>2021-01-13 00:00:00+00:00</td>\n",
              "      <td>130.89</td>\n",
              "      <td>131.4500</td>\n",
              "      <td>128.49</td>\n",
              "      <td>128.76</td>\n",
              "      <td>88636831</td>\n",
              "      <td>130.890000</td>\n",
              "      <td>131.450000</td>\n",
              "      <td>128.490000</td>\n",
              "      <td>128.760000</td>\n",
              "      <td>88636831</td>\n",
              "      <td>0.0</td>\n",
              "      <td>1.0</td>\n",
              "    </tr>\n",
              "    <tr>\n",
              "      <th>1257</th>\n",
              "      <td>AAPL</td>\n",
              "      <td>2021-01-14 00:00:00+00:00</td>\n",
              "      <td>128.91</td>\n",
              "      <td>131.0000</td>\n",
              "      <td>128.76</td>\n",
              "      <td>130.80</td>\n",
              "      <td>90221755</td>\n",
              "      <td>128.910000</td>\n",
              "      <td>131.000000</td>\n",
              "      <td>128.760000</td>\n",
              "      <td>130.800000</td>\n",
              "      <td>90221755</td>\n",
              "      <td>0.0</td>\n",
              "      <td>1.0</td>\n",
              "    </tr>\n",
              "    <tr>\n",
              "      <th>1258</th>\n",
              "      <td>AAPL</td>\n",
              "      <td>2021-01-15 00:00:00+00:00</td>\n",
              "      <td>127.14</td>\n",
              "      <td>130.2242</td>\n",
              "      <td>127.00</td>\n",
              "      <td>128.78</td>\n",
              "      <td>111598531</td>\n",
              "      <td>127.140000</td>\n",
              "      <td>130.224200</td>\n",
              "      <td>127.000000</td>\n",
              "      <td>128.780000</td>\n",
              "      <td>111598531</td>\n",
              "      <td>0.0</td>\n",
              "      <td>1.0</td>\n",
              "    </tr>\n",
              "  </tbody>\n",
              "</table>\n",
              "<p>1259 rows × 14 columns</p>\n",
              "</div>"
            ],
            "text/plain": [
              "     symbol                       date   close  ...  adjVolume  divCash  splitFactor\n",
              "0      AAPL  2016-01-19 00:00:00+00:00   96.66  ...  212350988      0.0          1.0\n",
              "1      AAPL  2016-01-20 00:00:00+00:00   96.79  ...  289337664      0.0          1.0\n",
              "2      AAPL  2016-01-21 00:00:00+00:00   96.30  ...  208645852      0.0          1.0\n",
              "3      AAPL  2016-01-22 00:00:00+00:00  101.42  ...  263201868      0.0          1.0\n",
              "4      AAPL  2016-01-25 00:00:00+00:00   99.44  ...  207178100      0.0          1.0\n",
              "...     ...                        ...     ...  ...        ...      ...          ...\n",
              "1254   AAPL  2021-01-11 00:00:00+00:00  128.98  ...  100620880      0.0          1.0\n",
              "1255   AAPL  2021-01-12 00:00:00+00:00  128.80  ...   90440255      0.0          1.0\n",
              "1256   AAPL  2021-01-13 00:00:00+00:00  130.89  ...   88636831      0.0          1.0\n",
              "1257   AAPL  2021-01-14 00:00:00+00:00  128.91  ...   90221755      0.0          1.0\n",
              "1258   AAPL  2021-01-15 00:00:00+00:00  127.14  ...  111598531      0.0          1.0\n",
              "\n",
              "[1259 rows x 14 columns]"
            ]
          },
          "metadata": {
            "tags": []
          },
          "execution_count": 46
        }
      ]
    },
    {
      "cell_type": "code",
      "metadata": {
        "id": "scHzv_wwpsj-"
      },
      "source": [
        "# we'll forecast on the basis of closing values\r\n",
        "df_new = df.reset_index()['close']"
      ],
      "execution_count": null,
      "outputs": []
    },
    {
      "cell_type": "code",
      "metadata": {
        "colab": {
          "base_uri": "https://localhost:8080/"
        },
        "id": "sg87JOYts6uP",
        "outputId": "630a2b77-1a7f-4923-e297-7a3f00c08b10"
      },
      "source": [
        "df_new"
      ],
      "execution_count": null,
      "outputs": [
        {
          "output_type": "execute_result",
          "data": {
            "text/plain": [
              "0        96.66\n",
              "1        96.79\n",
              "2        96.30\n",
              "3       101.42\n",
              "4        99.44\n",
              "         ...  \n",
              "1254    128.98\n",
              "1255    128.80\n",
              "1256    130.89\n",
              "1257    128.91\n",
              "1258    127.14\n",
              "Name: close, Length: 1259, dtype: float64"
            ]
          },
          "metadata": {
            "tags": []
          },
          "execution_count": 48
        }
      ]
    },
    {
      "cell_type": "code",
      "metadata": {
        "colab": {
          "base_uri": "https://localhost:8080/",
          "height": 265
        },
        "id": "6aozhMDUtIgr",
        "outputId": "65f44bc1-927f-4c3b-8888-8b7145931d86"
      },
      "source": [
        "# stock price from 19/01/2016 to 15/01/2021\r\n",
        "plt.plot(df_new)\r\n",
        "plt.show()"
      ],
      "execution_count": null,
      "outputs": [
        {
          "output_type": "display_data",
          "data": {
            "image/png": "[encoded data removed]",
            "text/plain": [
              "<Figure size 432x288 with 1 Axes>"
            ]
          },
          "metadata": {
            "tags": [],
            "needs_background": "light"
          }
        }
      ]
    },
    {
      "cell_type": "code",
      "metadata": {
        "colab": {
          "base_uri": "https://localhost:8080/"
        },
        "id": "zzaqm2GEtZc0",
        "outputId": "e4e2b32a-351e-4a2d-9bf5-8e1dd4397d44"
      },
      "source": [
        "np.array(df_new).reshape(-1,1)"
      ],
      "execution_count": null,
      "outputs": [
        {
          "output_type": "execute_result",
          "data": {
            "text/plain": [
              "array([[ 96.66],\n",
              "       [ 96.79],\n",
              "       [ 96.3 ],\n",
              "       ...,\n",
              "       [130.89],\n",
              "       [128.91],\n",
              "       [127.14]])"
            ]
          },
          "metadata": {
            "tags": []
          },
          "execution_count": 50
        }
      ]
    },
    {
      "cell_type": "code",
      "metadata": {
        "id": "ujwAQUWWtdUC"
      },
      "source": [
        "# apply min max scaler\r\n",
        "from sklearn.preprocessing import MinMaxScaler\r\n",
        "# scaling the data b/w 0 to 1 as LSTM are sensitive to scale of data as inputs should be of comparable range\r\n",
        "scaler = MinMaxScaler(feature_range=(0,1))\r\n",
        "# reshaping as we need a 2d matrix here\r\n",
        "df_new = scaler.fit_transform(np.array(df_new).reshape(-1,1))"
      ],
      "execution_count": null,
      "outputs": []
    },
    {
      "cell_type": "code",
      "metadata": {
        "colab": {
          "base_uri": "https://localhost:8080/"
        },
        "id": "rcALv-isnHri",
        "outputId": "9db0628e-1b4d-49f5-df8c-ce1005b2a99c"
      },
      "source": [
        "df_new"
      ],
      "execution_count": null,
      "outputs": [
        {
          "output_type": "execute_result",
          "data": {
            "text/plain": [
              "array([[0.01520144],\n",
              "       [0.01551413],\n",
              "       [0.01433554],\n",
              "       ...,\n",
              "       [0.09753458],\n",
              "       [0.0927721 ],\n",
              "       [0.08851473]])"
            ]
          },
          "metadata": {
            "tags": []
          },
          "execution_count": 52
        }
      ]
    },
    {
      "cell_type": "code",
      "metadata": {
        "id": "Oav95WX3vuy1"
      },
      "source": [
        "# apply train test split\r\n",
        "# As here we are dealing with time series data we cannot simply apply cross validation or random seed \r\n",
        "# instead we have to divide data in two parts based on date\r\n",
        "train_data_size = int(len(df_new)*0.7)\r\n",
        "train_data, test_data = df_new[:train_data_size,:],df_new[train_data_size:len(df_new),:1]"
      ],
      "execution_count": null,
      "outputs": []
    },
    {
      "cell_type": "code",
      "metadata": {
        "colab": {
          "base_uri": "https://localhost:8080/"
        },
        "id": "eMy-4d0b36WJ",
        "outputId": "bf987813-7a44-4579-ba3f-c9b11026096e"
      },
      "source": [
        "len(train_data)"
      ],
      "execution_count": null,
      "outputs": [
        {
          "output_type": "execute_result",
          "data": {
            "text/plain": [
              "881"
            ]
          },
          "metadata": {
            "tags": []
          },
          "execution_count": 54
        }
      ]
    },
    {
      "cell_type": "code",
      "metadata": {
        "colab": {
          "base_uri": "https://localhost:8080/"
        },
        "id": "BYw8czxd39BE",
        "outputId": "ea660258-a801-4b4f-a05c-017251d8c6b8"
      },
      "source": [
        "len(test_data)"
      ],
      "execution_count": null,
      "outputs": [
        {
          "output_type": "execute_result",
          "data": {
            "text/plain": [
              "378"
            ]
          },
          "metadata": {
            "tags": []
          },
          "execution_count": 55
        }
      ]
    },
    {
      "cell_type": "code",
      "metadata": {
        "id": "pYcBlpMsxWEr"
      },
      "source": [
        "# Utility function to generate data frames from numpy arrays based on time_steps\r\n",
        "def generate_df(data,time_step=100):\r\n",
        "  dataX,dataY = [],[]\r\n",
        "  for i in range(len(data)-time_step-1):\r\n",
        "    dataX.append(data[i:(i+time_step),0])\r\n",
        "    dataY.append(data[i+time_step,0])\r\n",
        "  return np.array(dataX),np.array(dataY)"
      ],
      "execution_count": null,
      "outputs": []
    },
    {
      "cell_type": "code",
      "metadata": {
        "id": "zPVbpNs01MPY"
      },
      "source": [
        "X_train, y_train = generate_df(train_data)\r\n",
        "X_test, y_test = generate_df(test_data)"
      ],
      "execution_count": null,
      "outputs": []
    },
    {
      "cell_type": "code",
      "metadata": {
        "colab": {
          "base_uri": "https://localhost:8080/"
        },
        "id": "cdX52fha2LOk",
        "outputId": "9625c066-cbd1-4eb3-8497-085a230602e3"
      },
      "source": [
        "print(X_test.shape), print(y_test.shape)\r\n",
        "print(X_train.shape), print(y_train.shape)"
      ],
      "execution_count": null,
      "outputs": [
        {
          "output_type": "stream",
          "text": [
            "(277, 100)\n",
            "(277,)\n",
            "(780, 100)\n",
            "(780,)\n"
          ],
          "name": "stdout"
        },
        {
          "output_type": "execute_result",
          "data": {
            "text/plain": [
              "(None, None)"
            ]
          },
          "metadata": {
            "tags": []
          },
          "execution_count": 58
        }
      ]
    },
    {
      "cell_type": "code",
      "metadata": {
        "id": "igB85bwb2Rew"
      },
      "source": [
        "# reshaping the inputs for lstm i.e., [samples, time steps, features]\r\n",
        "X_train =X_train.reshape(X_train.shape[0],X_train.shape[1] , 1)\r\n",
        "X_test = X_test.reshape(X_test.shape[0],X_test.shape[1] , 1)"
      ],
      "execution_count": null,
      "outputs": []
    },
    {
      "cell_type": "code",
      "metadata": {
        "id": "sGsKF7-e4s_J"
      },
      "source": [
        "# Sequential Model: A plain stack of layers where each layer has exactly one input tensor and one output tensor / does not have multiple inputs or outputs\r\n",
        "# return_sequences(True): As we want to have a sequence for the output, not just a single vector\r\n",
        "# dense layer: Each neuron in previous layer is connected to all the neurons in this layer\r\n",
        "# adam optimiser: uses both momentum smoothening and RMSPROP (Upgraded version of adagrad for prevention of high alpha value which may lead to very low learning rate)\r\n",
        "# loss: mean_squared_error as we are using regression here, in case of classification we could have binary_cross_entropy\r\n",
        "lstmModel = Sequential()\r\n",
        "lstmModel.add(LSTM(50,return_sequences=True,input_shape=(100,1)))\r\n",
        "lstmModel.add(LSTM(50,return_sequences=True))\r\n",
        "lstmModel.add(LSTM(50))\r\n",
        "lstmModel.add(Dense(1))\r\n",
        "lstmModel.compile(loss = 'mean_squared_error',optimizer = 'adam')"
      ],
      "execution_count": null,
      "outputs": []
    },
    {
      "cell_type": "code",
      "metadata": {
        "colab": {
          "base_uri": "https://localhost:8080/"
        },
        "id": "QLk_dJck9VVG",
        "outputId": "1fe92aa4-4e7e-410a-d54f-f46487572968"
      },
      "source": [
        "lstmModel.summary()"
      ],
      "execution_count": null,
      "outputs": [
        {
          "output_type": "stream",
          "text": [
            "Model: \"sequential_1\"\n",
            "_________________________________________________________________\n",
            "Layer (type)                 Output Shape              Param #   \n",
            "=================================================================\n",
            "lstm_3 (LSTM)                (None, 100, 50)           10400     \n",
            "_________________________________________________________________\n",
            "lstm_4 (LSTM)                (None, 100, 50)           20200     \n",
            "_________________________________________________________________\n",
            "lstm_5 (LSTM)                (None, 50)                20200     \n",
            "_________________________________________________________________\n",
            "dense_1 (Dense)              (None, 1)                 51        \n",
            "=================================================================\n",
            "Total params: 50,851\n",
            "Trainable params: 50,851\n",
            "Non-trainable params: 0\n",
            "_________________________________________________________________\n"
          ],
          "name": "stdout"
        }
      ]
    },
    {
      "cell_type": "code",
      "metadata": {
        "colab": {
          "base_uri": "https://localhost:8080/"
        },
        "id": "mD27VqDQCqZg",
        "outputId": "c85aed44-3f20-442c-d1fb-7ae8413b8b01"
      },
      "source": [
        "lstmModel.fit(X_train,y_train,validation_data=(X_test,y_test),epochs=100,batch_size=64)"
      ],
      "execution_count": null,
      "outputs": [
        {
          "output_type": "stream",
          "text": [
            "Epoch 1/100\n",
            "13/13 [==============================] - 4s 88ms/step - loss: 0.0129 - val_loss: 0.0581\n",
            "Epoch 2/100\n",
            "13/13 [==============================] - 0s 20ms/step - loss: 0.0022 - val_loss: 0.0308\n",
            "Epoch 3/100\n",
            "13/13 [==============================] - 0s 18ms/step - loss: 7.7534e-04 - val_loss: 0.0245\n",
            "Epoch 4/100\n",
            "13/13 [==============================] - 0s 18ms/step - loss: 4.8429e-04 - val_loss: 0.0243\n",
            "Epoch 5/100\n",
            "13/13 [==============================] - 0s 18ms/step - loss: 4.1055e-04 - val_loss: 0.0231\n",
            "Epoch 6/100\n",
            "13/13 [==============================] - 0s 18ms/step - loss: 3.4968e-04 - val_loss: 0.0224\n",
            "Epoch 7/100\n",
            "13/13 [==============================] - 0s 18ms/step - loss: 3.5751e-04 - val_loss: 0.0220\n",
            "Epoch 8/100\n",
            "13/13 [==============================] - 0s 18ms/step - loss: 4.0518e-04 - val_loss: 0.0215\n",
            "Epoch 9/100\n",
            "13/13 [==============================] - 0s 18ms/step - loss: 3.5487e-04 - val_loss: 0.0205\n",
            "Epoch 10/100\n",
            "13/13 [==============================] - 0s 18ms/step - loss: 3.7362e-04 - val_loss: 0.0200\n",
            "Epoch 11/100\n",
            "13/13 [==============================] - 0s 18ms/step - loss: 3.5767e-04 - val_loss: 0.0194\n",
            "Epoch 12/100\n",
            "13/13 [==============================] - 0s 21ms/step - loss: 2.6802e-04 - val_loss: 0.0195\n",
            "Epoch 13/100\n",
            "13/13 [==============================] - 0s 21ms/step - loss: 2.6997e-04 - val_loss: 0.0188\n",
            "Epoch 14/100\n",
            "13/13 [==============================] - 0s 21ms/step - loss: 2.2571e-04 - val_loss: 0.0188\n",
            "Epoch 15/100\n",
            "13/13 [==============================] - 0s 20ms/step - loss: 2.1991e-04 - val_loss: 0.0187\n",
            "Epoch 16/100\n",
            "13/13 [==============================] - 0s 21ms/step - loss: 2.1958e-04 - val_loss: 0.0185\n",
            "Epoch 17/100\n",
            "13/13 [==============================] - 0s 21ms/step - loss: 2.1975e-04 - val_loss: 0.0184\n",
            "Epoch 18/100\n",
            "13/13 [==============================] - 0s 21ms/step - loss: 2.2566e-04 - val_loss: 0.0187\n",
            "Epoch 19/100\n",
            "13/13 [==============================] - 0s 21ms/step - loss: 2.1121e-04 - val_loss: 0.0190\n",
            "Epoch 20/100\n",
            "13/13 [==============================] - 0s 21ms/step - loss: 1.9827e-04 - val_loss: 0.0182\n",
            "Epoch 21/100\n",
            "13/13 [==============================] - 0s 21ms/step - loss: 1.9483e-04 - val_loss: 0.0176\n",
            "Epoch 22/100\n",
            "13/13 [==============================] - 0s 19ms/step - loss: 2.0898e-04 - val_loss: 0.0179\n",
            "Epoch 23/100\n",
            "13/13 [==============================] - 0s 18ms/step - loss: 1.9052e-04 - val_loss: 0.0175\n",
            "Epoch 24/100\n",
            "13/13 [==============================] - 0s 19ms/step - loss: 1.8402e-04 - val_loss: 0.0175\n",
            "Epoch 25/100\n",
            "13/13 [==============================] - 0s 18ms/step - loss: 2.0041e-04 - val_loss: 0.0177\n",
            "Epoch 26/100\n",
            "13/13 [==============================] - 0s 19ms/step - loss: 1.9889e-04 - val_loss: 0.0174\n",
            "Epoch 27/100\n",
            "13/13 [==============================] - 0s 19ms/step - loss: 1.8931e-04 - val_loss: 0.0169\n",
            "Epoch 28/100\n",
            "13/13 [==============================] - 0s 18ms/step - loss: 1.8596e-04 - val_loss: 0.0176\n",
            "Epoch 29/100\n",
            "13/13 [==============================] - 0s 20ms/step - loss: 2.3055e-04 - val_loss: 0.0171\n",
            "Epoch 30/100\n",
            "13/13 [==============================] - 0s 22ms/step - loss: 2.3653e-04 - val_loss: 0.0165\n",
            "Epoch 31/100\n",
            "13/13 [==============================] - 0s 18ms/step - loss: 1.8235e-04 - val_loss: 0.0163\n",
            "Epoch 32/100\n",
            "13/13 [==============================] - 0s 18ms/step - loss: 1.7841e-04 - val_loss: 0.0164\n",
            "Epoch 33/100\n",
            "13/13 [==============================] - 0s 18ms/step - loss: 1.7022e-04 - val_loss: 0.0163\n",
            "Epoch 34/100\n",
            "13/13 [==============================] - 0s 18ms/step - loss: 1.5769e-04 - val_loss: 0.0161\n",
            "Epoch 35/100\n",
            "13/13 [==============================] - 0s 18ms/step - loss: 1.6321e-04 - val_loss: 0.0160\n",
            "Epoch 36/100\n",
            "13/13 [==============================] - 0s 19ms/step - loss: 1.6483e-04 - val_loss: 0.0158\n",
            "Epoch 37/100\n",
            "13/13 [==============================] - 0s 20ms/step - loss: 1.6104e-04 - val_loss: 0.0159\n",
            "Epoch 38/100\n",
            "13/13 [==============================] - 0s 21ms/step - loss: 1.5131e-04 - val_loss: 0.0156\n",
            "Epoch 39/100\n",
            "13/13 [==============================] - 0s 19ms/step - loss: 1.5519e-04 - val_loss: 0.0156\n",
            "Epoch 40/100\n",
            "13/13 [==============================] - 0s 18ms/step - loss: 1.5343e-04 - val_loss: 0.0151\n",
            "Epoch 41/100\n",
            "13/13 [==============================] - 0s 30ms/step - loss: 1.4476e-04 - val_loss: 0.0150\n",
            "Epoch 42/100\n",
            "13/13 [==============================] - 0s 19ms/step - loss: 1.4905e-04 - val_loss: 0.0150\n",
            "Epoch 43/100\n",
            "13/13 [==============================] - 0s 21ms/step - loss: 1.5140e-04 - val_loss: 0.0150\n",
            "Epoch 44/100\n",
            "13/13 [==============================] - 0s 21ms/step - loss: 1.6834e-04 - val_loss: 0.0158\n",
            "Epoch 45/100\n",
            "13/13 [==============================] - 0s 21ms/step - loss: 1.8305e-04 - val_loss: 0.0147\n",
            "Epoch 46/100\n",
            "13/13 [==============================] - 0s 21ms/step - loss: 1.5512e-04 - val_loss: 0.0145\n",
            "Epoch 47/100\n",
            "13/13 [==============================] - 0s 23ms/step - loss: 1.5648e-04 - val_loss: 0.0148\n",
            "Epoch 48/100\n",
            "13/13 [==============================] - 0s 22ms/step - loss: 1.6141e-04 - val_loss: 0.0145\n",
            "Epoch 49/100\n",
            "13/13 [==============================] - 0s 21ms/step - loss: 1.5114e-04 - val_loss: 0.0142\n",
            "Epoch 50/100\n",
            "13/13 [==============================] - 0s 21ms/step - loss: 1.4475e-04 - val_loss: 0.0141\n",
            "Epoch 51/100\n",
            "13/13 [==============================] - 0s 21ms/step - loss: 1.5311e-04 - val_loss: 0.0154\n",
            "Epoch 52/100\n",
            "13/13 [==============================] - 0s 21ms/step - loss: 1.6253e-04 - val_loss: 0.0138\n",
            "Epoch 53/100\n",
            "13/13 [==============================] - 0s 19ms/step - loss: 1.5228e-04 - val_loss: 0.0135\n",
            "Epoch 54/100\n",
            "13/13 [==============================] - 0s 19ms/step - loss: 1.4200e-04 - val_loss: 0.0148\n",
            "Epoch 55/100\n",
            "13/13 [==============================] - 0s 19ms/step - loss: 1.5667e-04 - val_loss: 0.0135\n",
            "Epoch 56/100\n",
            "13/13 [==============================] - 0s 18ms/step - loss: 1.2809e-04 - val_loss: 0.0144\n",
            "Epoch 57/100\n",
            "13/13 [==============================] - 0s 18ms/step - loss: 1.6117e-04 - val_loss: 0.0152\n",
            "Epoch 58/100\n",
            "13/13 [==============================] - 0s 19ms/step - loss: 1.4408e-04 - val_loss: 0.0132\n",
            "Epoch 59/100\n",
            "13/13 [==============================] - 0s 18ms/step - loss: 1.2168e-04 - val_loss: 0.0137\n",
            "Epoch 60/100\n",
            "13/13 [==============================] - 0s 18ms/step - loss: 1.2255e-04 - val_loss: 0.0132\n",
            "Epoch 61/100\n",
            "13/13 [==============================] - 0s 19ms/step - loss: 1.2426e-04 - val_loss: 0.0128\n",
            "Epoch 62/100\n",
            "13/13 [==============================] - 0s 18ms/step - loss: 1.3660e-04 - val_loss: 0.0137\n",
            "Epoch 63/100\n",
            "13/13 [==============================] - 0s 18ms/step - loss: 1.1459e-04 - val_loss: 0.0139\n",
            "Epoch 64/100\n",
            "13/13 [==============================] - 0s 18ms/step - loss: 1.4990e-04 - val_loss: 0.0123\n",
            "Epoch 65/100\n",
            "13/13 [==============================] - 0s 17ms/step - loss: 1.4697e-04 - val_loss: 0.0119\n",
            "Epoch 66/100\n",
            "13/13 [==============================] - 0s 19ms/step - loss: 1.2985e-04 - val_loss: 0.0123\n",
            "Epoch 67/100\n",
            "13/13 [==============================] - 0s 19ms/step - loss: 1.1599e-04 - val_loss: 0.0130\n",
            "Epoch 68/100\n",
            "13/13 [==============================] - 0s 19ms/step - loss: 1.1482e-04 - val_loss: 0.0121\n",
            "Epoch 69/100\n",
            "13/13 [==============================] - 0s 18ms/step - loss: 1.1182e-04 - val_loss: 0.0118\n",
            "Epoch 70/100\n",
            "13/13 [==============================] - 0s 18ms/step - loss: 1.3775e-04 - val_loss: 0.0117\n",
            "Epoch 71/100\n",
            "13/13 [==============================] - 0s 18ms/step - loss: 1.2160e-04 - val_loss: 0.0130\n",
            "Epoch 72/100\n",
            "13/13 [==============================] - 0s 20ms/step - loss: 1.1513e-04 - val_loss: 0.0136\n",
            "Epoch 73/100\n",
            "13/13 [==============================] - 0s 18ms/step - loss: 1.2278e-04 - val_loss: 0.0119\n",
            "Epoch 74/100\n",
            "13/13 [==============================] - 0s 19ms/step - loss: 1.3541e-04 - val_loss: 0.0117\n",
            "Epoch 75/100\n",
            "13/13 [==============================] - 0s 17ms/step - loss: 1.1829e-04 - val_loss: 0.0112\n",
            "Epoch 76/100\n",
            "13/13 [==============================] - 0s 18ms/step - loss: 1.0960e-04 - val_loss: 0.0111\n",
            "Epoch 77/100\n",
            "13/13 [==============================] - 0s 19ms/step - loss: 1.0917e-04 - val_loss: 0.0106\n",
            "Epoch 78/100\n",
            "13/13 [==============================] - 0s 18ms/step - loss: 1.2394e-04 - val_loss: 0.0113\n",
            "Epoch 79/100\n",
            "13/13 [==============================] - 0s 18ms/step - loss: 1.1621e-04 - val_loss: 0.0105\n",
            "Epoch 80/100\n",
            "13/13 [==============================] - 0s 18ms/step - loss: 1.1937e-04 - val_loss: 0.0123\n",
            "Epoch 81/100\n",
            "13/13 [==============================] - 0s 20ms/step - loss: 1.1109e-04 - val_loss: 0.0103\n",
            "Epoch 82/100\n",
            "13/13 [==============================] - 0s 22ms/step - loss: 1.0865e-04 - val_loss: 0.0102\n",
            "Epoch 83/100\n",
            "13/13 [==============================] - 0s 18ms/step - loss: 1.0997e-04 - val_loss: 0.0099\n",
            "Epoch 84/100\n",
            "13/13 [==============================] - 0s 18ms/step - loss: 1.2693e-04 - val_loss: 0.0101\n",
            "Epoch 85/100\n",
            "13/13 [==============================] - 0s 18ms/step - loss: 1.2061e-04 - val_loss: 0.0097\n",
            "Epoch 86/100\n",
            "13/13 [==============================] - 0s 18ms/step - loss: 1.1103e-04 - val_loss: 0.0103\n",
            "Epoch 87/100\n",
            "13/13 [==============================] - 0s 20ms/step - loss: 9.5923e-05 - val_loss: 0.0106\n",
            "Epoch 88/100\n",
            "13/13 [==============================] - 0s 21ms/step - loss: 1.1820e-04 - val_loss: 0.0102\n",
            "Epoch 89/100\n",
            "13/13 [==============================] - 0s 21ms/step - loss: 1.0497e-04 - val_loss: 0.0106\n",
            "Epoch 90/100\n",
            "13/13 [==============================] - 0s 20ms/step - loss: 1.0849e-04 - val_loss: 0.0109\n",
            "Epoch 91/100\n",
            "13/13 [==============================] - 0s 18ms/step - loss: 1.2960e-04 - val_loss: 0.0092\n",
            "Epoch 92/100\n",
            "13/13 [==============================] - 0s 18ms/step - loss: 1.0083e-04 - val_loss: 0.0096\n",
            "Epoch 93/100\n",
            "13/13 [==============================] - 0s 18ms/step - loss: 1.1936e-04 - val_loss: 0.0091\n",
            "Epoch 94/100\n",
            "13/13 [==============================] - 0s 18ms/step - loss: 9.3323e-05 - val_loss: 0.0097\n",
            "Epoch 95/100\n",
            "13/13 [==============================] - 0s 18ms/step - loss: 8.9972e-05 - val_loss: 0.0095\n",
            "Epoch 96/100\n",
            "13/13 [==============================] - 0s 18ms/step - loss: 9.7385e-05 - val_loss: 0.0092\n",
            "Epoch 97/100\n",
            "13/13 [==============================] - 0s 18ms/step - loss: 1.1339e-04 - val_loss: 0.0089\n",
            "Epoch 98/100\n",
            "13/13 [==============================] - 0s 18ms/step - loss: 9.1306e-05 - val_loss: 0.0090\n",
            "Epoch 99/100\n",
            "13/13 [==============================] - 0s 19ms/step - loss: 1.0229e-04 - val_loss: 0.0091\n",
            "Epoch 100/100\n",
            "13/13 [==============================] - 0s 17ms/step - loss: 8.0884e-05 - val_loss: 0.0088\n"
          ],
          "name": "stdout"
        },
        {
          "output_type": "execute_result",
          "data": {
            "text/plain": [
              "<tensorflow.python.keras.callbacks.History at 0x7f845d410748>"
            ]
          },
          "metadata": {
            "tags": []
          },
          "execution_count": 62
        }
      ]
    },
    {
      "cell_type": "code",
      "metadata": {
        "id": "wk7CMHOp2NSl"
      },
      "source": [
        "# predictions and performance metrices\r\n",
        "train_preds=lstmModel.predict(X_train)\r\n",
        "test_preds=lstmModel.predict(X_test)\r\n",
        "# To find RMSE performance metrics we have to perform inverse scaling\r\n",
        "train_preds=scaler.inverse_transform(train_preds)\r\n",
        "test_preds=scaler.inverse_transform(test_preds)"
      ],
      "execution_count": null,
      "outputs": []
    },
    {
      "cell_type": "code",
      "metadata": {
        "colab": {
          "base_uri": "https://localhost:8080/"
        },
        "id": "CnoJmPQjDvXy",
        "outputId": "858f96ac-27d8-4c32-9722-59ec23b813ea"
      },
      "source": [
        "# train data RMSE\r\n",
        "from sklearn.metrics import mean_squared_error\r\n",
        "m.sqrt(mean_squared_error(y_train,train_preds))"
      ],
      "execution_count": null,
      "outputs": [
        {
          "output_type": "execute_result",
          "data": {
            "text/plain": [
              "164.42102059751554"
            ]
          },
          "metadata": {
            "tags": []
          },
          "execution_count": 64
        }
      ]
    },
    {
      "cell_type": "code",
      "metadata": {
        "colab": {
          "base_uri": "https://localhost:8080/"
        },
        "id": "bgCNoHIo1Ktn",
        "outputId": "4a32f54b-776e-4d79-805b-c6237870da46"
      },
      "source": [
        "# test data RMSE\r\n",
        "m.sqrt(mean_squared_error(y_test,test_preds))"
      ],
      "execution_count": null,
      "outputs": [
        {
          "output_type": "execute_result",
          "data": {
            "text/plain": [
              "282.67351767278666"
            ]
          },
          "metadata": {
            "tags": []
          },
          "execution_count": 65
        }
      ]
    },
    {
      "cell_type": "code",
      "metadata": {
        "colab": {
          "base_uri": "https://localhost:8080/",
          "height": 265
        },
        "id": "iEsnmwyME_nv",
        "outputId": "7339d515-a74b-401d-bd9a-e3d116d7003e"
      },
      "source": [
        "# shift train and test preds for plotting\r\n",
        "step=100\r\n",
        "trainPredictPlot = np.empty_like(df_new)\r\n",
        "trainPredictPlot[:, :] = np.nan\r\n",
        "trainPredictPlot[step:len(train_preds)+step, :] = train_preds\r\n",
        "\r\n",
        "testPredictPlot = np.empty_like(df_new)\r\n",
        "testPredictPlot[:, :] = np.nan\r\n",
        "testPredictPlot[len(train_preds)+(step*2)+1:len(df_new)-1, :] = test_preds\r\n",
        "\r\n",
        "plt.plot(scaler.inverse_transform(df_new))\r\n",
        "plt.plot(trainPredictPlot)\r\n",
        "plt.plot(testPredictPlot)\r\n",
        "plt.show()"
      ],
      "execution_count": null,
      "outputs": [
        {
          "output_type": "display_data",
          "data": {
            "image/png": "[encoded data removed]",
            "text/plain": [
              "<Figure size 432x288 with 1 Axes>"
            ]
          },
          "metadata": {
            "tags": [],
            "needs_background": "light"
          }
        }
      ]
    },
    {
      "cell_type": "code",
      "metadata": {
        "colab": {
          "base_uri": "https://localhost:8080/"
        },
        "id": "t-eoGM1wMTd7",
        "outputId": "8cc2b6fb-006f-4912-d761-47b7d3def556"
      },
      "source": [
        "# Forcast for next 300 days based on our lstm model\r\n",
        "print(len(test_data))\r\n",
        "# taking the data for last 100 days\r\n",
        "X_input=test_data[278:].reshape(1,-1)\r\n",
        "X_input.shape"
      ],
      "execution_count": null,
      "outputs": [
        {
          "output_type": "stream",
          "text": [
            "378\n"
          ],
          "name": "stdout"
        },
        {
          "output_type": "execute_result",
          "data": {
            "text/plain": [
              "(1, 100)"
            ]
          },
          "metadata": {
            "tags": []
          },
          "execution_count": 67
        }
      ]
    },
    {
      "cell_type": "code",
      "metadata": {
        "id": "7KymNqSfT9EO"
      },
      "source": [
        "new_x_input = list(list(X_input)[0])"
      ],
      "execution_count": null,
      "outputs": []
    },
    {
      "cell_type": "code",
      "metadata": {
        "colab": {
          "base_uri": "https://localhost:8080/"
        },
        "id": "p3oV2hI9UP_I",
        "outputId": "83e840b6-42ad-4240-afd8-d54e72fcacdb"
      },
      "source": [
        "len(new_x_input)"
      ],
      "execution_count": null,
      "outputs": [
        {
          "output_type": "execute_result",
          "data": {
            "text/plain": [
              "100"
            ]
          },
          "metadata": {
            "tags": []
          },
          "execution_count": 69
        }
      ]
    },
    {
      "cell_type": "code",
      "metadata": {
        "colab": {
          "base_uri": "https://localhost:8080/"
        },
        "id": "uTLDtwmHdlIC",
        "outputId": "b0f06703-15da-4fe3-a2a5-18ef3deb3920"
      },
      "source": [
        "X_input"
      ],
      "execution_count": null,
      "outputs": [
        {
          "output_type": "execute_result",
          "data": {
            "text/plain": [
              "array([[0.98366807, 1.        , 0.98544799, 0.9834997 , 0.09308479,\n",
              "        0.10544799, 0.09876127, 0.07345761, 0.07365003, 0.05407096,\n",
              "        0.06489477, 0.0556825 , 0.05209862, 0.06016837, 0.06061335,\n",
              "        0.0524113 , 0.04810583, 0.03968731, 0.04748046, 0.05164161,\n",
              "        0.04036079, 0.04300661, 0.0527721 , 0.05921828, 0.05712568,\n",
              "        0.06126278, 0.06361996, 0.05455201, 0.06292243, 0.05488876,\n",
              "        0.05950692, 0.05924233, 0.06405292, 0.08192423, 0.07398677,\n",
              "        0.07420325, 0.07304871, 0.06898376, 0.06167168, 0.06535177,\n",
              "        0.06381239, 0.06111846, 0.0594107 , 0.05943476, 0.06316296,\n",
              "        0.05017438, 0.06008419, 0.044546  , 0.04432952, 0.04834636,\n",
              "        0.05919423, 0.06900782, 0.06819002, 0.06248948, 0.06164762,\n",
              "        0.07011425, 0.06944077, 0.06956103, 0.07206254, 0.06987372,\n",
              "        0.06660253, 0.06806975, 0.06494287, 0.05654841, 0.05972339,\n",
              "        0.06179194, 0.06313891, 0.06905592, 0.07788334, 0.07874925,\n",
              "        0.07841251, 0.07675286, 0.08036079, 0.08187613, 0.07562237,\n",
              "        0.0791341 , 0.0771377 , 0.07562237, 0.09029465, 0.09012628,\n",
              "        0.09226699, 0.08734817, 0.0911365 , 0.09991581, 0.09770295,\n",
              "        0.10013229, 0.11148527, 0.10710764, 0.10434155, 0.1018641 ,\n",
              "        0.09397474, 0.09782321, 0.08721587, 0.09760673, 0.10032471,\n",
              "        0.09294047, 0.09250752, 0.09753458, 0.0927721 , 0.08851473]])"
            ]
          },
          "metadata": {
            "tags": []
          },
          "execution_count": 70
        }
      ]
    },
    {
      "cell_type": "code",
      "metadata": {
        "id": "vGFZ5ks6UXaH"
      },
      "source": [
        "fifty_day_predictions = []\r\n",
        "for i in range(300):\r\n",
        "  x_input = X_input.reshape((1, 100,1))\r\n",
        "  yhat = lstmModel.predict(x_input)\r\n",
        "  k = x_input.tolist()[0]\r\n",
        "  k.append(yhat[0])\r\n",
        "  fifty_day_predictions.append(list(yhat[0]))\r\n",
        "  k = k[1:]\r\n",
        "  X_input = np.array(k)"
      ],
      "execution_count": null,
      "outputs": []
    },
    {
      "cell_type": "code",
      "metadata": {
        "colab": {
          "base_uri": "https://localhost:8080/"
        },
        "id": "P_yiYTjpZINy",
        "outputId": "58cbeef9-508f-4f70-80ba-d606c4783a98"
      },
      "source": [
        "fifty_day_predictions"
      ],
      "execution_count": null,
      "outputs": [
        {
          "output_type": "execute_result",
          "data": {
            "text/plain": [
              "[[0.09696437],\n",
              " [0.09710232],\n",
              " [0.097653136],\n",
              " [0.098530315],\n",
              " [0.09960176],\n",
              " [0.10075565],\n",
              " [0.10191669],\n",
              " [0.103042014],\n",
              " [0.10411107],\n",
              " [0.10511704],\n",
              " [0.10606072],\n",
              " [0.10694699],\n",
              " [0.10778291],\n",
              " [0.10857654],\n",
              " [0.10933643],\n",
              " [0.11007087],\n",
              " [0.110787794],\n",
              " [0.111494295],\n",
              " [0.11219636],\n",
              " [0.11289894],\n",
              " [0.11360575],\n",
              " [0.114319414],\n",
              " [0.1150415],\n",
              " [0.11577272],\n",
              " [0.116513036],\n",
              " [0.11726191],\n",
              " [0.118018396],\n",
              " [0.11878129],\n",
              " [0.11954934],\n",
              " [0.12032128],\n",
              " [0.12109588],\n",
              " [0.12187208],\n",
              " [0.12264904],\n",
              " [0.123426],\n",
              " [0.12420247],\n",
              " [0.12497809],\n",
              " [0.1257527],\n",
              " [0.12652628],\n",
              " [0.12729882],\n",
              " [0.12807046],\n",
              " [0.12884142],\n",
              " [0.12961182],\n",
              " [0.13038196],\n",
              " [0.13115199],\n",
              " [0.13192213],\n",
              " [0.1326925],\n",
              " [0.13346325],\n",
              " [0.13423446],\n",
              " [0.1350062],\n",
              " [0.13577852],\n",
              " [0.1365514],\n",
              " [0.1373248],\n",
              " [0.13809876],\n",
              " [0.13887316],\n",
              " [0.13964802],\n",
              " [0.14042325],\n",
              " [0.14119881],\n",
              " [0.14197464],\n",
              " [0.1427507],\n",
              " [0.14352694],\n",
              " [0.14430334],\n",
              " [0.14507985],\n",
              " [0.14585645],\n",
              " [0.14663313],\n",
              " [0.14740986],\n",
              " [0.14818661],\n",
              " [0.1489634],\n",
              " [0.14974019],\n",
              " [0.15051699],\n",
              " [0.15129375],\n",
              " [0.1520705],\n",
              " [0.15284722],\n",
              " [0.15362386],\n",
              " [0.15440041],\n",
              " [0.15517688],\n",
              " [0.15595323],\n",
              " [0.15672942],\n",
              " [0.15750548],\n",
              " [0.15828134],\n",
              " [0.15905696],\n",
              " [0.15983236],\n",
              " [0.1606075],\n",
              " [0.16138236],\n",
              " [0.16215687],\n",
              " [0.16293098],\n",
              " [0.16370477],\n",
              " [0.16447814],\n",
              " [0.16525103],\n",
              " [0.16602345],\n",
              " [0.16679537],\n",
              " [0.16756676],\n",
              " [0.16833758],\n",
              " [0.16910778],\n",
              " [0.16987737],\n",
              " [0.17064627],\n",
              " [0.17141446],\n",
              " [0.17218189],\n",
              " [0.17294858],\n",
              " [0.17371443],\n",
              " [0.17447944],\n",
              " [0.17524354],\n",
              " [0.17600675],\n",
              " [0.17676894],\n",
              " [0.17753014],\n",
              " [0.17829028],\n",
              " [0.17904933],\n",
              " [0.1798072],\n",
              " [0.18056393],\n",
              " [0.18131942],\n",
              " [0.18207364],\n",
              " [0.18282653],\n",
              " [0.18357803],\n",
              " [0.18432815],\n",
              " [0.18507679],\n",
              " [0.18582392],\n",
              " [0.1865695],\n",
              " [0.18731344],\n",
              " [0.18805574],\n",
              " [0.18879628],\n",
              " [0.18953507],\n",
              " [0.19027205],\n",
              " [0.19100712],\n",
              " [0.19174026],\n",
              " [0.1924714],\n",
              " [0.19320051],\n",
              " [0.1939275],\n",
              " [0.1946523],\n",
              " [0.19537489],\n",
              " [0.19609517],\n",
              " [0.19681312],\n",
              " [0.19752865],\n",
              " [0.19824168],\n",
              " [0.19895218],\n",
              " [0.19966006],\n",
              " [0.20036525],\n",
              " [0.20106773],\n",
              " [0.20176737],\n",
              " [0.20246416],\n",
              " [0.203158],\n",
              " [0.2038488],\n",
              " [0.20453651],\n",
              " [0.20522107],\n",
              " [0.20590238],\n",
              " [0.20658045],\n",
              " [0.20725505],\n",
              " [0.20792623],\n",
              " [0.20859389],\n",
              " [0.20925793],\n",
              " [0.2099183],\n",
              " [0.2105749],\n",
              " [0.21122767],\n",
              " [0.21187651],\n",
              " [0.21252136],\n",
              " [0.21316212],\n",
              " [0.21379875],\n",
              " [0.21443112],\n",
              " [0.21505916],\n",
              " [0.21568282],\n",
              " [0.21630199],\n",
              " [0.21691658],\n",
              " [0.21752654],\n",
              " [0.21813178],\n",
              " [0.21873216],\n",
              " [0.21932767],\n",
              " [0.21991818],\n",
              " [0.22050361],\n",
              " [0.2210839],\n",
              " [0.22165896],\n",
              " [0.22222869],\n",
              " [0.222793],\n",
              " [0.22335184],\n",
              " [0.22390507],\n",
              " [0.22445263],\n",
              " [0.22499453],\n",
              " [0.22553052],\n",
              " [0.22606061],\n",
              " [0.22658475],\n",
              " [0.22710274],\n",
              " [0.22761463],\n",
              " [0.22812025],\n",
              " [0.22861953],\n",
              " [0.22911243],\n",
              " [0.22959886],\n",
              " [0.23007874],\n",
              " [0.23055194],\n",
              " [0.23101845],\n",
              " [0.23147817],\n",
              " [0.23193105],\n",
              " [0.23237698],\n",
              " [0.23281589],\n",
              " [0.23324776],\n",
              " [0.23367241],\n",
              " [0.23408993],\n",
              " [0.23450015],\n",
              " [0.234903],\n",
              " [0.23529853],\n",
              " [0.23568656],\n",
              " [0.23606707],\n",
              " [0.23643999],\n",
              " [0.2368053],\n",
              " [0.23716299],\n",
              " [0.23751293],\n",
              " [0.23785509],\n",
              " [0.2381895],\n",
              " [0.23851605],\n",
              " [0.2388347],\n",
              " [0.23914546],\n",
              " [0.2394483],\n",
              " [0.23974313],\n",
              " [0.24002998],\n",
              " [0.24030885],\n",
              " [0.2405797],\n",
              " [0.24084248],\n",
              " [0.2410972],\n",
              " [0.2413439],\n",
              " [0.24158254],\n",
              " [0.24181314],\n",
              " [0.24203567],\n",
              " [0.24225017],\n",
              " [0.24245663],\n",
              " [0.24265514],\n",
              " [0.24284564],\n",
              " [0.24302821],\n",
              " [0.24320285],\n",
              " [0.24336956],\n",
              " [0.2435285],\n",
              " [0.2436796],\n",
              " [0.24382298],\n",
              " [0.24395859],\n",
              " [0.24408661],\n",
              " [0.24420707],\n",
              " [0.24431999],\n",
              " [0.2444255],\n",
              " [0.24452363],\n",
              " [0.2446145],\n",
              " [0.24469815],\n",
              " [0.24477471],\n",
              " [0.24484429],\n",
              " [0.2449069],\n",
              " [0.24496274],\n",
              " [0.24501188],\n",
              " [0.24505442],\n",
              " [0.24509047],\n",
              " [0.2451202],\n",
              " [0.24514364],\n",
              " [0.24516104],\n",
              " [0.24517246],\n",
              " [0.24517798],\n",
              " [0.24517785],\n",
              " [0.24517214],\n",
              " [0.24516101],\n",
              " [0.24514459],\n",
              " [0.2451231],\n",
              " [0.24509661],\n",
              " [0.24506527],\n",
              " [0.24502932],\n",
              " [0.24498887],\n",
              " [0.24494405],\n",
              " [0.2448951],\n",
              " [0.24484216],\n",
              " [0.2447853],\n",
              " [0.24472485],\n",
              " [0.24466082],\n",
              " [0.24459352],\n",
              " [0.24452297],\n",
              " [0.24444948],\n",
              " [0.24437317],\n",
              " [0.24429418],\n",
              " [0.24421267],\n",
              " [0.24412888],\n",
              " [0.24404292],\n",
              " [0.243955],\n",
              " [0.2438652],\n",
              " [0.24377383],\n",
              " [0.24368094],\n",
              " [0.24358669],\n",
              " [0.24349132],\n",
              " [0.2433949],\n",
              " [0.24329764],\n",
              " [0.24319965],\n",
              " [0.24310113],\n",
              " [0.24300219],\n",
              " [0.24290301],\n",
              " [0.24280368],\n",
              " [0.24270438],\n",
              " [0.24260525],\n",
              " [0.24250633],\n",
              " [0.24240784],\n",
              " [0.24230994],\n",
              " [0.24221261],\n",
              " [0.24211608],\n",
              " [0.24202041],\n",
              " [0.24192573],\n",
              " [0.24183212],\n",
              " [0.2417397],\n",
              " [0.24164858],\n",
              " [0.24155878],\n",
              " [0.24147044],\n",
              " [0.24138367],\n",
              " [0.24129845]]"
            ]
          },
          "metadata": {
            "tags": []
          },
          "execution_count": 72
        }
      ]
    },
    {
      "cell_type": "code",
      "metadata": {
        "colab": {
          "base_uri": "https://localhost:8080/",
          "height": 265
        },
        "id": "rou2DNR9ZKhu",
        "outputId": "465946ca-0ab6-4163-d903-db3240141e8a"
      },
      "source": [
        "day_new=np.arange(1,1260)\r\n",
        "day_pred=np.arange(1260,1560)\r\n",
        "\r\n",
        "plt.plot(day_new,scaler.inverse_transform(df_new))\r\n",
        "plt.plot(day_pred,scaler.inverse_transform(fifty_day_predictions))\r\n",
        "plt.show()"
      ],
      "execution_count": null,
      "outputs": [
        {
          "output_type": "display_data",
          "data": {
            "image/png": "[encoded data removed]",
            "text/plain": [
              "<Figure size 432x288 with 1 Axes>"
            ]
          },
          "metadata": {
            "tags": [],
            "needs_background": "light"
          }
        }
      ]
    },
    {
      "cell_type": "markdown",
      "metadata": {
        "id": "2rOvn6EpdBnD"
      },
      "source": [
        "Using Biderctional LSTM:"
      ]
    },
    {
      "cell_type": "code",
      "metadata": {
        "id": "KtdnHTlWdFX5"
      },
      "source": [
        "from tensorflow.keras.layers import Bidirectional\r\n",
        "bidirectionalLstmModel = Sequential()\r\n",
        "bidirectionalLstmModel.add(Bidirectional(LSTM(50,return_sequences=True,input_shape=(100,1))))\r\n",
        "bidirectionalLstmModel.add(Bidirectional(LSTM(50,return_sequences=True)))\r\n",
        "bidirectionalLstmModel.add(Bidirectional(LSTM(50)))\r\n",
        "bidirectionalLstmModel.add(Dense(1))\r\n",
        "bidirectionalLstmModel.compile(loss = 'mean_squared_error',optimizer = 'adam')"
      ],
      "execution_count": null,
      "outputs": []
    },
    {
      "cell_type": "code",
      "metadata": {
        "colab": {
          "base_uri": "https://localhost:8080/"
        },
        "id": "xQ-k3yzoeKJK",
        "outputId": "66019ed7-9c2b-40d9-fcea-851bdf0be578"
      },
      "source": [
        "bidirectionalLstmModel.fit(X_train,y_train,validation_data=(X_test,y_test),epochs=100,batch_size=64)"
      ],
      "execution_count": null,
      "outputs": [
        {
          "output_type": "stream",
          "text": [
            "Epoch 1/100\n",
            "13/13 [==============================] - 9s 165ms/step - loss: 0.0131 - val_loss: 0.0488\n",
            "Epoch 2/100\n",
            "13/13 [==============================] - 0s 34ms/step - loss: 0.0015 - val_loss: 0.0336\n",
            "Epoch 3/100\n",
            "13/13 [==============================] - 0s 35ms/step - loss: 8.5593e-04 - val_loss: 0.0235\n",
            "Epoch 4/100\n",
            "13/13 [==============================] - 0s 32ms/step - loss: 4.1678e-04 - val_loss: 0.0195\n",
            "Epoch 5/100\n",
            "13/13 [==============================] - 0s 37ms/step - loss: 3.1280e-04 - val_loss: 0.0168\n",
            "Epoch 6/100\n",
            "13/13 [==============================] - 1s 49ms/step - loss: 2.3369e-04 - val_loss: 0.0154\n",
            "Epoch 7/100\n",
            "13/13 [==============================] - 0s 35ms/step - loss: 2.3810e-04 - val_loss: 0.0148\n",
            "Epoch 8/100\n",
            "13/13 [==============================] - 0s 32ms/step - loss: 1.9235e-04 - val_loss: 0.0149\n",
            "Epoch 9/100\n",
            "13/13 [==============================] - 0s 33ms/step - loss: 2.0613e-04 - val_loss: 0.0140\n",
            "Epoch 10/100\n",
            "13/13 [==============================] - 0s 32ms/step - loss: 2.0329e-04 - val_loss: 0.0134\n",
            "Epoch 11/100\n",
            "13/13 [==============================] - 0s 32ms/step - loss: 1.6993e-04 - val_loss: 0.0127\n",
            "Epoch 12/100\n",
            "13/13 [==============================] - 0s 34ms/step - loss: 1.8041e-04 - val_loss: 0.0127\n",
            "Epoch 13/100\n",
            "13/13 [==============================] - 0s 33ms/step - loss: 1.4544e-04 - val_loss: 0.0117\n",
            "Epoch 14/100\n",
            "13/13 [==============================] - 0s 35ms/step - loss: 1.4898e-04 - val_loss: 0.0121\n",
            "Epoch 15/100\n",
            "13/13 [==============================] - 0s 32ms/step - loss: 1.2659e-04 - val_loss: 0.0112\n",
            "Epoch 16/100\n",
            "13/13 [==============================] - 0s 36ms/step - loss: 1.3930e-04 - val_loss: 0.0109\n",
            "Epoch 17/100\n",
            "13/13 [==============================] - 0s 33ms/step - loss: 1.2886e-04 - val_loss: 0.0128\n",
            "Epoch 18/100\n",
            "13/13 [==============================] - 0s 33ms/step - loss: 1.4009e-04 - val_loss: 0.0110\n",
            "Epoch 19/100\n",
            "13/13 [==============================] - 0s 36ms/step - loss: 1.1883e-04 - val_loss: 0.0108\n",
            "Epoch 20/100\n",
            "13/13 [==============================] - 0s 34ms/step - loss: 1.1353e-04 - val_loss: 0.0104\n",
            "Epoch 21/100\n",
            "13/13 [==============================] - 0s 35ms/step - loss: 1.1827e-04 - val_loss: 0.0110\n",
            "Epoch 22/100\n",
            "13/13 [==============================] - 0s 32ms/step - loss: 1.3227e-04 - val_loss: 0.0107\n",
            "Epoch 23/100\n",
            "13/13 [==============================] - 0s 33ms/step - loss: 1.2036e-04 - val_loss: 0.0114\n",
            "Epoch 24/100\n",
            "13/13 [==============================] - 0s 34ms/step - loss: 1.2820e-04 - val_loss: 0.0102\n",
            "Epoch 25/100\n",
            "13/13 [==============================] - 0s 33ms/step - loss: 1.1466e-04 - val_loss: 0.0104\n",
            "Epoch 26/100\n",
            "13/13 [==============================] - 0s 33ms/step - loss: 1.5036e-04 - val_loss: 0.0097\n",
            "Epoch 27/100\n",
            "13/13 [==============================] - 0s 34ms/step - loss: 1.0636e-04 - val_loss: 0.0096\n",
            "Epoch 28/100\n",
            "13/13 [==============================] - 0s 34ms/step - loss: 1.2318e-04 - val_loss: 0.0100\n",
            "Epoch 29/100\n",
            "13/13 [==============================] - 0s 32ms/step - loss: 1.1146e-04 - val_loss: 0.0100\n",
            "Epoch 30/100\n",
            "13/13 [==============================] - 0s 32ms/step - loss: 1.0045e-04 - val_loss: 0.0102\n",
            "Epoch 31/100\n",
            "13/13 [==============================] - 0s 33ms/step - loss: 1.2022e-04 - val_loss: 0.0101\n",
            "Epoch 32/100\n",
            "13/13 [==============================] - 0s 33ms/step - loss: 1.1991e-04 - val_loss: 0.0104\n",
            "Epoch 33/100\n",
            "13/13 [==============================] - 0s 36ms/step - loss: 1.2771e-04 - val_loss: 0.0108\n",
            "Epoch 34/100\n",
            "13/13 [==============================] - 0s 34ms/step - loss: 1.4524e-04 - val_loss: 0.0099\n",
            "Epoch 35/100\n",
            "13/13 [==============================] - 0s 34ms/step - loss: 1.0481e-04 - val_loss: 0.0106\n",
            "Epoch 36/100\n",
            "13/13 [==============================] - 0s 33ms/step - loss: 1.0253e-04 - val_loss: 0.0100\n",
            "Epoch 37/100\n",
            "13/13 [==============================] - 0s 33ms/step - loss: 9.1283e-05 - val_loss: 0.0104\n",
            "Epoch 38/100\n",
            "13/13 [==============================] - 0s 33ms/step - loss: 9.6482e-05 - val_loss: 0.0105\n",
            "Epoch 39/100\n",
            "13/13 [==============================] - 0s 35ms/step - loss: 9.0910e-05 - val_loss: 0.0104\n",
            "Epoch 40/100\n",
            "13/13 [==============================] - 0s 33ms/step - loss: 1.1556e-04 - val_loss: 0.0097\n",
            "Epoch 41/100\n",
            "13/13 [==============================] - 0s 33ms/step - loss: 9.3124e-05 - val_loss: 0.0115\n",
            "Epoch 42/100\n",
            "13/13 [==============================] - 0s 35ms/step - loss: 9.2277e-05 - val_loss: 0.0109\n",
            "Epoch 43/100\n",
            "13/13 [==============================] - 0s 33ms/step - loss: 1.2950e-04 - val_loss: 0.0101\n",
            "Epoch 44/100\n",
            "13/13 [==============================] - 0s 34ms/step - loss: 1.1871e-04 - val_loss: 0.0104\n",
            "Epoch 45/100\n",
            "13/13 [==============================] - 0s 36ms/step - loss: 1.0920e-04 - val_loss: 0.0101\n",
            "Epoch 46/100\n",
            "13/13 [==============================] - 0s 33ms/step - loss: 9.7763e-05 - val_loss: 0.0107\n",
            "Epoch 47/100\n",
            "13/13 [==============================] - 0s 33ms/step - loss: 9.6507e-05 - val_loss: 0.0115\n",
            "Epoch 48/100\n",
            "13/13 [==============================] - 0s 34ms/step - loss: 1.0368e-04 - val_loss: 0.0112\n",
            "Epoch 49/100\n",
            "13/13 [==============================] - 0s 33ms/step - loss: 9.8885e-05 - val_loss: 0.0118\n",
            "Epoch 50/100\n",
            "13/13 [==============================] - 0s 33ms/step - loss: 8.7978e-05 - val_loss: 0.0133\n",
            "Epoch 51/100\n",
            "13/13 [==============================] - 0s 34ms/step - loss: 7.9086e-05 - val_loss: 0.0147\n",
            "Epoch 52/100\n",
            "13/13 [==============================] - 0s 33ms/step - loss: 7.8517e-05 - val_loss: 0.0133\n",
            "Epoch 53/100\n",
            "13/13 [==============================] - 0s 33ms/step - loss: 9.0382e-05 - val_loss: 0.0150\n",
            "Epoch 54/100\n",
            "13/13 [==============================] - 0s 33ms/step - loss: 9.4193e-05 - val_loss: 0.0149\n",
            "Epoch 55/100\n",
            "13/13 [==============================] - 0s 34ms/step - loss: 7.1117e-05 - val_loss: 0.0164\n",
            "Epoch 56/100\n",
            "13/13 [==============================] - 0s 33ms/step - loss: 8.3429e-05 - val_loss: 0.0132\n",
            "Epoch 57/100\n",
            "13/13 [==============================] - 0s 32ms/step - loss: 1.0113e-04 - val_loss: 0.0121\n",
            "Epoch 58/100\n",
            "13/13 [==============================] - 0s 33ms/step - loss: 8.5726e-05 - val_loss: 0.0148\n",
            "Epoch 59/100\n",
            "13/13 [==============================] - 0s 33ms/step - loss: 9.1488e-05 - val_loss: 0.0138\n",
            "Epoch 60/100\n",
            "13/13 [==============================] - 0s 33ms/step - loss: 7.7450e-05 - val_loss: 0.0145\n",
            "Epoch 61/100\n",
            "13/13 [==============================] - 0s 32ms/step - loss: 8.1868e-05 - val_loss: 0.0152\n",
            "Epoch 62/100\n",
            "13/13 [==============================] - 0s 33ms/step - loss: 7.8295e-05 - val_loss: 0.0169\n",
            "Epoch 63/100\n",
            "13/13 [==============================] - 0s 34ms/step - loss: 8.1172e-05 - val_loss: 0.0197\n",
            "Epoch 64/100\n",
            "13/13 [==============================] - 0s 33ms/step - loss: 9.9629e-05 - val_loss: 0.0186\n",
            "Epoch 65/100\n",
            "13/13 [==============================] - 0s 35ms/step - loss: 8.2543e-05 - val_loss: 0.0160\n",
            "Epoch 66/100\n",
            "13/13 [==============================] - 0s 38ms/step - loss: 7.3335e-05 - val_loss: 0.0145\n",
            "Epoch 67/100\n",
            "13/13 [==============================] - 0s 38ms/step - loss: 8.9102e-05 - val_loss: 0.0178\n",
            "Epoch 68/100\n",
            "13/13 [==============================] - 0s 33ms/step - loss: 7.3067e-05 - val_loss: 0.0156\n",
            "Epoch 69/100\n",
            "13/13 [==============================] - 0s 33ms/step - loss: 9.1949e-05 - val_loss: 0.0171\n",
            "Epoch 70/100\n",
            "13/13 [==============================] - 0s 35ms/step - loss: 7.9281e-05 - val_loss: 0.0171\n",
            "Epoch 71/100\n",
            "13/13 [==============================] - 0s 32ms/step - loss: 7.2693e-05 - val_loss: 0.0198\n",
            "Epoch 72/100\n",
            "13/13 [==============================] - 0s 33ms/step - loss: 8.9348e-05 - val_loss: 0.0168\n",
            "Epoch 73/100\n",
            "13/13 [==============================] - 0s 34ms/step - loss: 7.3930e-05 - val_loss: 0.0180\n",
            "Epoch 74/100\n",
            "13/13 [==============================] - 0s 34ms/step - loss: 7.8918e-05 - val_loss: 0.0195\n",
            "Epoch 75/100\n",
            "13/13 [==============================] - 0s 33ms/step - loss: 8.9796e-05 - val_loss: 0.0220\n",
            "Epoch 76/100\n",
            "13/13 [==============================] - 0s 34ms/step - loss: 7.7259e-05 - val_loss: 0.0237\n",
            "Epoch 77/100\n",
            "13/13 [==============================] - 0s 33ms/step - loss: 9.3329e-05 - val_loss: 0.0212\n",
            "Epoch 78/100\n",
            "13/13 [==============================] - 0s 33ms/step - loss: 7.7619e-05 - val_loss: 0.0220\n",
            "Epoch 79/100\n",
            "13/13 [==============================] - 0s 37ms/step - loss: 7.1366e-05 - val_loss: 0.0229\n",
            "Epoch 80/100\n",
            "13/13 [==============================] - 1s 40ms/step - loss: 7.3133e-05 - val_loss: 0.0248\n",
            "Epoch 81/100\n",
            "13/13 [==============================] - 0s 38ms/step - loss: 8.4920e-05 - val_loss: 0.0255\n",
            "Epoch 82/100\n",
            "13/13 [==============================] - 0s 38ms/step - loss: 6.6044e-05 - val_loss: 0.0243\n",
            "Epoch 83/100\n",
            "13/13 [==============================] - 0s 36ms/step - loss: 7.2500e-05 - val_loss: 0.0257\n",
            "Epoch 84/100\n",
            "13/13 [==============================] - 0s 39ms/step - loss: 8.1054e-05 - val_loss: 0.0214\n",
            "Epoch 85/100\n",
            "13/13 [==============================] - 1s 40ms/step - loss: 7.5266e-05 - val_loss: 0.0227\n",
            "Epoch 86/100\n",
            "13/13 [==============================] - 0s 38ms/step - loss: 7.8111e-05 - val_loss: 0.0208\n",
            "Epoch 87/100\n",
            "13/13 [==============================] - 0s 34ms/step - loss: 6.7121e-05 - val_loss: 0.0265\n",
            "Epoch 88/100\n",
            "13/13 [==============================] - 0s 33ms/step - loss: 7.2362e-05 - val_loss: 0.0237\n",
            "Epoch 89/100\n",
            "13/13 [==============================] - 0s 34ms/step - loss: 6.9543e-05 - val_loss: 0.0263\n",
            "Epoch 90/100\n",
            "13/13 [==============================] - 0s 34ms/step - loss: 6.6929e-05 - val_loss: 0.0281\n",
            "Epoch 91/100\n",
            "13/13 [==============================] - 0s 32ms/step - loss: 6.3201e-05 - val_loss: 0.0281\n",
            "Epoch 92/100\n",
            "13/13 [==============================] - 1s 51ms/step - loss: 6.7165e-05 - val_loss: 0.0265\n",
            "Epoch 93/100\n",
            "13/13 [==============================] - 0s 34ms/step - loss: 8.8542e-05 - val_loss: 0.0202\n",
            "Epoch 94/100\n",
            "13/13 [==============================] - 0s 33ms/step - loss: 8.4413e-05 - val_loss: 0.0153\n",
            "Epoch 95/100\n",
            "13/13 [==============================] - 0s 37ms/step - loss: 8.8618e-05 - val_loss: 0.0215\n",
            "Epoch 96/100\n",
            "13/13 [==============================] - 0s 35ms/step - loss: 8.0478e-05 - val_loss: 0.0201\n",
            "Epoch 97/100\n",
            "13/13 [==============================] - 0s 33ms/step - loss: 7.7749e-05 - val_loss: 0.0196\n",
            "Epoch 98/100\n",
            "13/13 [==============================] - 0s 36ms/step - loss: 6.3041e-05 - val_loss: 0.0214\n",
            "Epoch 99/100\n",
            "13/13 [==============================] - 0s 34ms/step - loss: 7.0139e-05 - val_loss: 0.0256\n",
            "Epoch 100/100\n",
            "13/13 [==============================] - 0s 37ms/step - loss: 8.2785e-05 - val_loss: 0.0207\n"
          ],
          "name": "stdout"
        },
        {
          "output_type": "execute_result",
          "data": {
            "text/plain": [
              "<tensorflow.python.keras.callbacks.History at 0x7f843a512518>"
            ]
          },
          "metadata": {
            "tags": []
          },
          "execution_count": 79
        }
      ]
    },
    {
      "cell_type": "code",
      "metadata": {
        "id": "-6hw5PwxeQ2k"
      },
      "source": [
        "# predictions and performance metrices for bidirectional lstm model\r\n",
        "bidirectional_train_preds=bidirectionalLstmModel.predict(X_train)\r\n",
        "bidirectional_test_preds=bidirectionalLstmModel.predict(X_test)\r\n",
        "# To find RMSE performance metrics we have to perform inverse scaling\r\n",
        "bidirectional_train_preds=scaler.inverse_transform(bidirectional_train_preds)\r\n",
        "bidirectional_test_preds=scaler.inverse_transform(bidirectional_test_preds)"
      ],
      "execution_count": null,
      "outputs": []
    },
    {
      "cell_type": "code",
      "metadata": {
        "colab": {
          "base_uri": "https://localhost:8080/"
        },
        "id": "-XNYOWU2eoFk",
        "outputId": "57094d50-cdc1-443e-ad0f-f363d0641755"
      },
      "source": [
        "# train data RMSE for bidirectional lstm\r\n",
        "from sklearn.metrics import mean_squared_error\r\n",
        "m.sqrt(mean_squared_error(y_train,bidirectional_train_preds))"
      ],
      "execution_count": null,
      "outputs": [
        {
          "output_type": "execute_result",
          "data": {
            "text/plain": [
              "162.44907262120913"
            ]
          },
          "metadata": {
            "tags": []
          },
          "execution_count": 81
        }
      ]
    },
    {
      "cell_type": "code",
      "metadata": {
        "colab": {
          "base_uri": "https://localhost:8080/"
        },
        "id": "EfUNpmM3eywV",
        "outputId": "5a1a3905-4bad-4ec5-8330-b3ef5dbaef8a"
      },
      "source": [
        "# test data RMSE for bidirectional lstm\r\n",
        "m.sqrt(mean_squared_error(y_test,bidirectional_test_preds))"
      ],
      "execution_count": null,
      "outputs": [
        {
          "output_type": "execute_result",
          "data": {
            "text/plain": [
              "314.5475493741209"
            ]
          },
          "metadata": {
            "tags": []
          },
          "execution_count": 82
        }
      ]
    },
    {
      "cell_type": "markdown",
      "metadata": {
        "id": "aNFgFS0ugaXs"
      },
      "source": [
        "**Note**\r\n",
        "\r\n",
        "Here bidirectional lstm won't even help at the first place as our aim was to forecast stock prices, moreover normal stacked lstm performs better than birectional (Compare the RMSE vales)\r\n",
        "\r\n",
        "**Results for stacked LSTM model**\r\n",
        "\r\n",
        "  RMSE value on test set: 282.67\r\n",
        "\r\n",
        "  RMSE value on train set: 164.42"
      ]
    },
    {
      "cell_type": "code",
      "metadata": {
        "id": "0_EaP0m0g5wU"
      },
      "source": [
        ""
      ],
      "execution_count": null,
      "outputs": []
    }
  ]
}